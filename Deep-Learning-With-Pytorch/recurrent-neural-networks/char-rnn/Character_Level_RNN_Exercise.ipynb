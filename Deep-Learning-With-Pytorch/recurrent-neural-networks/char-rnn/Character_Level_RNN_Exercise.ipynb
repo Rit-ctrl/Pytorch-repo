{
 "cells": [
  {
   "cell_type": "markdown",
   "metadata": {},
   "source": [
    "# Character-Level LSTM in PyTorch\n",
    "\n",
    "In this notebook, I'll construct a character-level LSTM with PyTorch. The network will train character by character on some text, then generate new text character by character. As an example, I will train on Anna Karenina. **This model will be able to generate new text based on the text from the book!**\n",
    "\n",
    "This network is based off of Andrej Karpathy's [post on RNNs](http://karpathy.github.io/2015/05/21/rnn-effectiveness/) and [implementation in Torch](https://github.com/karpathy/char-rnn). Below is the general architecture of the character-wise RNN.\n",
    "\n",
    "<img src=\"assets/charseq.jpeg\" width=\"500\">"
   ]
  },
  {
   "cell_type": "markdown",
   "metadata": {},
   "source": [
    "First let's load in our required resources for data loading and model creation."
   ]
  },
  {
   "cell_type": "code",
   "execution_count": 1,
   "metadata": {},
   "outputs": [],
   "source": [
    "import numpy as np\n",
    "import torch\n",
    "from torch import nn\n",
    "import torch.nn.functional as F"
   ]
  },
  {
   "cell_type": "markdown",
   "metadata": {},
   "source": [
    "## Load in Data\n",
    "\n",
    "Then, we'll load the Anna Karenina text file and convert it into integers for our network to use. "
   ]
  },
  {
   "cell_type": "code",
   "execution_count": 2,
   "metadata": {},
   "outputs": [],
   "source": [
    "# open text file and read in data as `text`\n",
    "with open('data/anna.txt', 'r') as f:\n",
    "    text = f.read()"
   ]
  },
  {
   "cell_type": "markdown",
   "metadata": {},
   "source": [
    "Let's check out the first 100 characters, make sure everything is peachy. According to the [American Book Review](http://americanbookreview.org/100bestlines.asp), this is the 6th best first line of a book ever."
   ]
  },
  {
   "cell_type": "code",
   "execution_count": 3,
   "metadata": {},
   "outputs": [
    {
     "data": {
      "text/plain": [
       "'Chapter 1\\n\\n\\nHappy families are all alike; every unhappy family is unhappy in its own\\nway.\\n\\nEverythin'"
      ]
     },
     "execution_count": 3,
     "metadata": {},
     "output_type": "execute_result"
    }
   ],
   "source": [
    "text[:100]"
   ]
  },
  {
   "cell_type": "markdown",
   "metadata": {},
   "source": [
    "### Tokenization\n",
    "\n",
    "In the cells, below, I'm creating a couple of **dictionaries** to convert the characters to and from integers. Encoding the characters as integers makes it easier to use as input in the network."
   ]
  },
  {
   "cell_type": "code",
   "execution_count": 4,
   "metadata": {},
   "outputs": [],
   "source": [
    "# encode the text and map each character to an integer and vice versa\n",
    "\n",
    "# we create two dictionaries:\n",
    "# 1. int2char, which maps integers to characters\n",
    "# 2. char2int, which maps characters to unique integers\n",
    "chars = tuple(set(text))\n",
    "int2char = dict(enumerate(chars))\n",
    "char2int = {ch: ii for ii, ch in int2char.items()}\n",
    "\n",
    "# encode the text\n",
    "encoded = np.array([char2int[ch] for ch in text])"
   ]
  },
  {
   "cell_type": "markdown",
   "metadata": {},
   "source": [
    "And we can see those same characters from above, encoded as integers."
   ]
  },
  {
   "cell_type": "code",
   "execution_count": 5,
   "metadata": {},
   "outputs": [
    {
     "data": {
      "text/plain": [
       "array([48, 52,  4, 59, 56, 14, 63, 12, 69,  5,  5,  5, 34,  4, 59, 59, 76,\n",
       "       12, 27,  4,  8, 36, 62, 36, 14,  9, 12,  4, 63, 14, 12,  4, 62, 62,\n",
       "       12,  4, 62, 36,  3, 14, 53, 12, 14, 18, 14, 63, 76, 12, 29, 45, 52,\n",
       "        4, 59, 59, 76, 12, 27,  4,  8, 36, 62, 76, 12, 36,  9, 12, 29, 45,\n",
       "       52,  4, 59, 59, 76, 12, 36, 45, 12, 36, 56,  9, 12, 54, 13, 45,  5,\n",
       "       13,  4, 76, 33,  5,  5, 38, 18, 14, 63, 76, 56, 52, 36, 45])"
      ]
     },
     "execution_count": 5,
     "metadata": {},
     "output_type": "execute_result"
    }
   ],
   "source": [
    "encoded[:100]"
   ]
  },
  {
   "cell_type": "markdown",
   "metadata": {},
   "source": [
    "## Pre-processing the data\n",
    "\n",
    "As you can see in our char-RNN image above, our LSTM expects an input that is **one-hot encoded** meaning that each character is converted into an integer (via our created dictionary) and *then* converted into a column vector where only it's corresponding integer index will have the value of 1 and the rest of the vector will be filled with 0's. Since we're one-hot encoding the data, let's make a function to do that!\n"
   ]
  },
  {
   "cell_type": "code",
   "execution_count": 6,
   "metadata": {},
   "outputs": [],
   "source": [
    "def one_hot_encode(arr, n_labels):\n",
    "    \n",
    "    # Initialize the encoded array\n",
    "    one_hot = np.zeros((arr.size, n_labels), dtype=np.float32)\n",
    "    \n",
    "    # Fill the appropriate elements with ones\n",
    "    one_hot[np.arange(one_hot.shape[0]), arr.flatten()] = 1.\n",
    "    \n",
    "    # Finally reshape it to get back to the original array\n",
    "    one_hot = one_hot.reshape((*arr.shape, n_labels))\n",
    "    \n",
    "    return one_hot"
   ]
  },
  {
   "cell_type": "code",
   "execution_count": 7,
   "metadata": {},
   "outputs": [
    {
     "name": "stdout",
     "output_type": "stream",
     "text": [
      "[[[0. 0. 0. 1. 0. 0. 0. 0.]\n",
      "  [0. 0. 0. 0. 0. 1. 0. 0.]\n",
      "  [0. 1. 0. 0. 0. 0. 0. 0.]]]\n"
     ]
    }
   ],
   "source": [
    "# check that the function works as expected\n",
    "test_seq = np.array([[3, 5, 1]])\n",
    "one_hot = one_hot_encode(test_seq, 8)\n",
    "\n",
    "print(one_hot)"
   ]
  },
  {
   "cell_type": "markdown",
   "metadata": {},
   "source": [
    "## Making training mini-batches\n",
    "\n",
    "\n",
    "To train on this data, we also want to create mini-batches for training. Remember that we want our batches to be multiple sequences of some desired number of sequence steps. Considering a simple example, our batches would look like this:\n",
    "\n",
    "<img src=\"assets/sequence_batching@1x.png\" width=500px>\n",
    "\n",
    "\n",
    "<br>\n",
    "\n",
    "In this example, we'll take the encoded characters (passed in as the `arr` parameter) and split them into multiple sequences, given by `batch_size`. Each of our sequences will be `seq_length` long.\n",
    "\n",
    "### Creating Batches\n",
    "\n",
    "**1. The first thing we need to do is discard some of the text so we only have completely full mini-batches. **\n",
    "\n",
    "Each batch contains $N \\times M$ characters, where $N$ is the batch size (the number of sequences in a batch) and $M$ is the seq_length or number of time steps in a sequence. Then, to get the total number of batches, $K$, that we can make from the array `arr`, you divide the length of `arr` by the number of characters per batch. Once you know the number of batches, you can get the total number of characters to keep from `arr`, $N * M * K$.\n",
    "\n",
    "**2. After that, we need to split `arr` into $N$ batches. ** \n",
    "\n",
    "You can do this using `arr.reshape(size)` where `size` is a tuple containing the dimensions sizes of the reshaped array. We know we want $N$ sequences in a batch, so let's make that the size of the first dimension. For the second dimension, you can use `-1` as a placeholder in the size, it'll fill up the array with the appropriate data for you. After this, you should have an array that is $N \\times (M * K)$.\n",
    "\n",
    "**3. Now that we have this array, we can iterate through it to get our mini-batches. **\n",
    "\n",
    "The idea is each batch is a $N \\times M$ window on the $N \\times (M * K)$ array. For each subsequent batch, the window moves over by `seq_length`. We also want to create both the input and target arrays. Remember that the targets are just the inputs shifted over by one character. The way I like to do this window is use `range` to take steps of size `n_steps` from $0$ to `arr.shape[1]`, the total number of tokens in each sequence. That way, the integers you get from `range` always point to the start of a batch, and each window is `seq_length` wide.\n",
    "\n",
    "> **TODO:** Write the code for creating batches in the function below. The exercises in this notebook _will not be easy_. I've provided a notebook with solutions alongside this notebook. If you get stuck, checkout the solutions. The most important thing is that you don't copy and paste the code into here, **type out the solution code yourself.**"
   ]
  },
  {
   "cell_type": "code",
   "execution_count": 8,
   "metadata": {},
   "outputs": [],
   "source": [
    "def get_batches(arr, batch_size, seq_length):\n",
    "    '''Create a generator that returns batches of size\n",
    "       batch_size x seq_length from arr.\n",
    "       \n",
    "       Arguments\n",
    "       ---------\n",
    "       arr: Array you want to make batches from\n",
    "       batch_size: Batch size, the number of sequences per batch\n",
    "       seq_length: Number of encoded chars in a sequence\n",
    "    '''\n",
    "    \n",
    "    ## TODO: Get the number of batches we can make\n",
    "    n_batches = len(arr)//(batch_size*seq_length)\n",
    "    \n",
    "    ## TODO: Keep only enough characters to make full batches\n",
    "    arr = arr[:batch_size*n_batches*seq_length]\n",
    "    \n",
    "    ## TODO: Reshape into batch_size rows\n",
    "    arr = arr.reshape(batch_size,-1)\n",
    "    \n",
    "    ## TODO: Iterate over the batches using a window of size seq_length\n",
    "    for n in range(0, arr.shape[1], seq_length):\n",
    "        # The features\n",
    "        x = arr[:,n:n+seq_length]\n",
    "        # The targets, shifted by one\n",
    "#         y = arr[:,n+1:n+1+seq_length]\n",
    "        y = np.zeros_like(x)\n",
    "        try:\n",
    "            y[:,:-1],y[:,-1] = x[:,1:],arr[:,n+seq_length]\n",
    "#             y = arr[:,n+1:n+1+seq_length]\n",
    "        except IndexError:\n",
    "            y[:,:-1],y[:,-1] = x[:,1:],arr[:,0] #if reached end of array set first element as last y\n",
    "        yield x, y"
   ]
  },
  {
   "cell_type": "code",
   "execution_count": null,
   "metadata": {},
   "outputs": [],
   "source": []
  },
  {
   "cell_type": "markdown",
   "metadata": {},
   "source": [
    "### Test Your Implementation\n",
    "\n",
    "Now I'll make some data sets and we can check out what's going on as we batch data. Here, as an example, I'm going to use a batch size of 8 and 50 sequence steps."
   ]
  },
  {
   "cell_type": "code",
   "execution_count": 9,
   "metadata": {},
   "outputs": [],
   "source": [
    "batches = get_batches(encoded, 8, 50)\n",
    "x, y = next(batches)"
   ]
  },
  {
   "cell_type": "code",
   "execution_count": 10,
   "metadata": {},
   "outputs": [
    {
     "data": {
      "text/plain": [
       "(array([[48, 52,  4, 59, 56, 14, 63, 12, 69,  5],\n",
       "        [ 9, 54, 45, 12, 56, 52,  4, 56, 12,  4],\n",
       "        [14, 45,  6, 12, 54, 63, 12,  4, 12, 27],\n",
       "        [ 9, 12, 56, 52, 14, 12, 73, 52, 36, 14],\n",
       "        [12,  9,  4, 13, 12, 52, 14, 63, 12, 56],\n",
       "        [73, 29,  9,  9, 36, 54, 45, 12,  4, 45],\n",
       "        [12, 57, 45, 45,  4, 12, 52,  4,  6, 12],\n",
       "        [17, 20, 62, 54, 45,  9,  3, 76, 33, 12]]),\n",
       " array([[52,  4, 59, 56, 14, 63, 12, 69,  5,  5],\n",
       "        [54, 45, 12, 56, 52,  4, 56, 12,  4, 56],\n",
       "        [45,  6, 12, 54, 63, 12,  4, 12, 27, 54],\n",
       "        [12, 56, 52, 14, 12, 73, 52, 36, 14, 27],\n",
       "        [ 9,  4, 13, 12, 52, 14, 63, 12, 56, 14],\n",
       "        [29,  9,  9, 36, 54, 45, 12,  4, 45,  6],\n",
       "        [57, 45, 45,  4, 12, 52,  4,  6, 12,  9],\n",
       "        [20, 62, 54, 45,  9,  3, 76, 33, 12, 37]]))"
      ]
     },
     "execution_count": 10,
     "metadata": {},
     "output_type": "execute_result"
    }
   ],
   "source": [
    "x[:,:10],y[:,:10]"
   ]
  },
  {
   "cell_type": "code",
   "execution_count": 11,
   "metadata": {},
   "outputs": [],
   "source": [
    "\n",
    "# n_batches = len(encoded)//(8*50)\n",
    "# arr = encoded[:8*n_batches*50]\n",
    "# arr = arr.reshape(8,-1)\n",
    "# z = arr[:,1:1+50]\n",
    "# z[1,:]\n"
   ]
  },
  {
   "cell_type": "code",
   "execution_count": 12,
   "metadata": {},
   "outputs": [
    {
     "name": "stdout",
     "output_type": "stream",
     "text": [
      "x\n",
      " [[48 52  4 59 56 14 63 12 69  5]\n",
      " [ 9 54 45 12 56 52  4 56 12  4]\n",
      " [14 45  6 12 54 63 12  4 12 27]\n",
      " [ 9 12 56 52 14 12 73 52 36 14]\n",
      " [12  9  4 13 12 52 14 63 12 56]\n",
      " [73 29  9  9 36 54 45 12  4 45]\n",
      " [12 57 45 45  4 12 52  4  6 12]\n",
      " [17 20 62 54 45  9  3 76 33 12]]\n",
      "\n",
      "y\n",
      " [[52  4 59 56 14 63 12 69  5  5]\n",
      " [54 45 12 56 52  4 56 12  4 56]\n",
      " [45  6 12 54 63 12  4 12 27 54]\n",
      " [12 56 52 14 12 73 52 36 14 27]\n",
      " [ 9  4 13 12 52 14 63 12 56 14]\n",
      " [29  9  9 36 54 45 12  4 45  6]\n",
      " [57 45 45  4 12 52  4  6 12  9]\n",
      " [20 62 54 45  9  3 76 33 12 37]]\n"
     ]
    }
   ],
   "source": [
    "# printing out the first 10 items in a sequence\n",
    "print('x\\n', x[:, :10])\n",
    "print('\\ny\\n', y[:, :10])"
   ]
  },
  {
   "cell_type": "markdown",
   "metadata": {},
   "source": [
    "If you implemented `get_batches` correctly, the above output should look something like \n",
    "```\n",
    "x\n",
    " [[25  8 60 11 45 27 28 73  1  2]\n",
    " [17  7 20 73 45  8 60 45 73 60]\n",
    " [27 20 80 73  7 28 73 60 73 65]\n",
    " [17 73 45  8 27 73 66  8 46 27]\n",
    " [73 17 60 12 73  8 27 28 73 45]\n",
    " [66 64 17 17 46  7 20 73 60 20]\n",
    " [73 76 20 20 60 73  8 60 80 73]\n",
    " [47 35 43  7 20 17 24 50 37 73]]\n",
    "\n",
    "y\n",
    " [[ 8 60 11 45 27 28 73  1  2  2]\n",
    " [ 7 20 73 45  8 60 45 73 60 45]\n",
    " [20 80 73  7 28 73 60 73 65  7]\n",
    " [73 45  8 27 73 66  8 46 27 65]\n",
    " [17 60 12 73  8 27 28 73 45 27]\n",
    " [64 17 17 46  7 20 73 60 20 80]\n",
    " [76 20 20 60 73  8 60 80 73 17]\n",
    " [35 43  7 20 17 24 50 37 73 36]]\n",
    " ```\n",
    " although the exact numbers may be different. Check to make sure the data is shifted over one step for `y`."
   ]
  },
  {
   "cell_type": "code",
   "execution_count": null,
   "metadata": {},
   "outputs": [],
   "source": []
  },
  {
   "cell_type": "markdown",
   "metadata": {},
   "source": [
    "---\n",
    "## Defining the network with PyTorch\n",
    "\n",
    "Below is where you'll define the network.\n",
    "\n",
    "<img src=\"assets/charRNN.png\" width=500px>\n",
    "\n",
    "Next, you'll use PyTorch to define the architecture of the network. We start by defining the layers and operations we want. Then, define a method for the forward pass. You've also been given a method for predicting characters."
   ]
  },
  {
   "cell_type": "markdown",
   "metadata": {},
   "source": [
    "### Model Structure\n",
    "\n",
    "In `__init__` the suggested structure is as follows:\n",
    "* Create and store the necessary dictionaries (this has been done for you)\n",
    "* Define an LSTM layer that takes as params: an input size (the number of characters), a hidden layer size `n_hidden`, a number of layers `n_layers`, a dropout probability `drop_prob`, and a batch_first boolean (True, since we are batching)\n",
    "* Define a dropout layer with `drop_prob`\n",
    "* Define a fully-connected layer with params: input size `n_hidden` and output size (the number of characters)\n",
    "* Finally, initialize the weights (again, this has been given)\n",
    "\n",
    "Note that some parameters have been named and given in the `__init__` function, and we use them and store them by doing something like `self.drop_prob = drop_prob`."
   ]
  },
  {
   "cell_type": "markdown",
   "metadata": {},
   "source": [
    "---\n",
    "### LSTM Inputs/Outputs\n",
    "\n",
    "You can create a basic [LSTM layer](https://pytorch.org/docs/stable/nn.html#lstm) as follows\n",
    "\n",
    "```python\n",
    "self.lstm = nn.LSTM(input_size, n_hidden, n_layers, \n",
    "                            dropout=drop_prob, batch_first=True)\n",
    "```\n",
    "\n",
    "where `input_size` is the number of characters this cell expects to see as sequential input, and `n_hidden` is the number of units in the hidden layers in the cell. And we can add dropout by adding a dropout parameter with a specified probability; this will automatically add dropout to the inputs or outputs. Finally, in the `forward` function, we can stack up the LSTM cells into layers using `.view`. With this, you pass in a list of cells and it will send the output of one cell into the next cell.\n",
    "\n",
    "We also need to create an initial hidden state of all zeros. This is done like so\n",
    "\n",
    "```python\n",
    "self.init_hidden()\n",
    "```"
   ]
  },
  {
   "cell_type": "code",
   "execution_count": 13,
   "metadata": {},
   "outputs": [
    {
     "name": "stdout",
     "output_type": "stream",
     "text": [
      "Training on GPU!\n"
     ]
    }
   ],
   "source": [
    "# check if GPU is available\n",
    "train_on_gpu = torch.backends.mps.is_available()\n",
    "if(train_on_gpu):\n",
    "    print('Training on GPU!')\n",
    "else: \n",
    "    print('No GPU available, training on CPU; consider making n_epochs very small.')"
   ]
  },
  {
   "cell_type": "code",
   "execution_count": 14,
   "metadata": {},
   "outputs": [],
   "source": [
    "train_on_gpu = False"
   ]
  },
  {
   "cell_type": "code",
   "execution_count": 15,
   "metadata": {},
   "outputs": [],
   "source": [
    "class CharRNN(nn.Module):\n",
    "    \n",
    "    def __init__(self, tokens, n_hidden=256, n_layers=2,\n",
    "                               drop_prob=0.5, lr=0.001):\n",
    "        super().__init__()\n",
    "        self.drop_prob = drop_prob\n",
    "        self.n_layers = n_layers\n",
    "        self.n_hidden = n_hidden\n",
    "        self.lr = lr\n",
    "        \n",
    "        # creating character dictionaries\n",
    "        self.chars = tokens\n",
    "        self.int2char = dict(enumerate(self.chars))\n",
    "        self.char2int = {ch: ii for ii, ch in self.int2char.items()}\n",
    "        \n",
    "        ## TODO: define the layers of the model\n",
    "        self.lstm = nn.LSTM(input_size = len(self.chars),hidden_size = self.n_hidden,\n",
    "                           num_layers = self.n_layers,batch_first = True,\n",
    "                           dropout = self.drop_prob)\n",
    "        \n",
    "        self.drop_out = nn.Dropout(p = self.drop_prob)\n",
    "        self.fc1 = nn.Linear(self.n_hidden,len(self.chars))\n",
    "        \n",
    "    def forward(self, x, hidden):\n",
    "        ''' Forward pass through the network. \n",
    "            These inputs are x, and the hidden/cell state `hidden`. '''\n",
    "                \n",
    "        ## TODO: Get the outputs and the new hidden state from the lstm\n",
    "        out,hidden = self.lstm(x,hidden)\n",
    "        out = self.drop_out(out)\n",
    "        \n",
    "        # return the final output and the hidden state\n",
    "        \n",
    "        out = out.contiguous().view(-1, self.n_hidden)\n",
    "        out = self.fc1(out)\n",
    "        \n",
    "        return out, hidden\n",
    "    \n",
    "    \n",
    "    def init_hidden(self, batch_size):\n",
    "        ''' Initializes hidden state '''\n",
    "        # Create two new tensors with sizes n_layers x batch_size x n_hidden,\n",
    "        # initialized to zero, for hidden state and cell state of LSTM\n",
    "        weight = next(self.parameters()).data\n",
    "        \n",
    "        if (train_on_gpu):\n",
    "            hidden = (weight.new(self.n_layers, batch_size, self.n_hidden).zero_().to(torch.device('mps')),\n",
    "                  weight.new(self.n_layers, batch_size, self.n_hidden).zero_().to(torch.device('mps')))\n",
    "        else:\n",
    "            hidden = (weight.new(self.n_layers, batch_size, self.n_hidden).zero_(),\n",
    "                      weight.new(self.n_layers, batch_size, self.n_hidden).zero_())\n",
    "        \n",
    "        return hidden\n",
    "        "
   ]
  },
  {
   "cell_type": "markdown",
   "metadata": {},
   "source": [
    "## Time to train\n",
    "\n",
    "The train function gives us the ability to set the number of epochs, the learning rate, and other parameters.\n",
    "\n",
    "Below we're using an Adam optimizer and cross entropy loss since we are looking at character class scores as output. We calculate the loss and perform backpropagation, as usual!\n",
    "\n",
    "A couple of details about training: \n",
    ">* Within the batch loop, we detach the hidden state from its history; this time setting it equal to a new *tuple* variable because an LSTM has a hidden state that is a tuple of the hidden and cell states.\n",
    "* We use [`clip_grad_norm_`](https://pytorch.org/docs/stable/_modules/torch/nn/utils/clip_grad.html) to help prevent exploding gradients."
   ]
  },
  {
   "cell_type": "code",
   "execution_count": 16,
   "metadata": {},
   "outputs": [],
   "source": [
    "def train(net, data, epochs=10, batch_size=10, seq_length=50, lr=0.001, clip=5, val_frac=0.1, print_every=10):\n",
    "    ''' Training a network \n",
    "    \n",
    "        Arguments\n",
    "        ---------\n",
    "        \n",
    "        net: CharRNN network\n",
    "        data: text data to train the network\n",
    "        epochs: Number of epochs to train\n",
    "        batch_size: Number of mini-sequences per mini-batch, aka batch size\n",
    "        seq_length: Number of character steps per mini-batch\n",
    "        lr: learning rate\n",
    "        clip: gradient clipping\n",
    "        val_frac: Fraction of data to hold out for validation\n",
    "        print_every: Number of steps for printing training and validation loss\n",
    "    \n",
    "    '''\n",
    "    net.train()\n",
    "    \n",
    "    opt = torch.optim.Adam(net.parameters(), lr=lr)\n",
    "    criterion = nn.CrossEntropyLoss()\n",
    "    \n",
    "    # create training and validation data\n",
    "    val_idx = int(len(data)*(1-val_frac))\n",
    "    data, val_data = data[:val_idx], data[val_idx:]\n",
    "    \n",
    "    if(train_on_gpu):\n",
    "        net.to(torch.device('mps'))\n",
    "    \n",
    "    counter = 0\n",
    "    n_chars = len(net.chars)\n",
    "    for e in range(epochs):\n",
    "        # initialize hidden state\n",
    "        h = net.init_hidden(batch_size)\n",
    "        \n",
    "        for x, y in get_batches(data, batch_size, seq_length):\n",
    "            counter += 1\n",
    "            \n",
    "            # One-hot encode our data and make them Torch tensors\n",
    "            x = one_hot_encode(x, n_chars)\n",
    "            inputs, targets = torch.from_numpy(x), torch.from_numpy(y)\n",
    "            \n",
    "            if(train_on_gpu):\n",
    "                inputs, targets = inputs.to(torch.device('mps')), targets.to(torch.device('mps'))\n",
    "\n",
    "            # Creating new variables for the hidden state, otherwise\n",
    "            # we'd backprop through the entire training history\n",
    "            h = tuple([each.data for each in h])\n",
    "\n",
    "            # zero accumulated gradients\n",
    "            net.zero_grad()\n",
    "            \n",
    "            # get the output from the model\n",
    "            output, h = net(inputs, h)\n",
    "            \n",
    "            # calculate the loss and perform backprop\n",
    "            loss = criterion(output, targets.view(batch_size*seq_length).long())\n",
    "            loss.backward()\n",
    "            # `clip_grad_norm` helps prevent the exploding gradient problem in RNNs / LSTMs.\n",
    "            nn.utils.clip_grad_norm_(net.parameters(), clip)\n",
    "            opt.step()\n",
    "            \n",
    "            # loss stats\n",
    "            if counter % print_every == 0:\n",
    "                # Get validation loss\n",
    "                val_h = net.init_hidden(batch_size)\n",
    "                val_losses = []\n",
    "                net.eval()\n",
    "                for x, y in get_batches(val_data, batch_size, seq_length):\n",
    "                    # One-hot encode our data and make them Torch tensors\n",
    "                    x = one_hot_encode(x, n_chars)\n",
    "                    x, y = torch.from_numpy(x), torch.from_numpy(y)\n",
    "                    \n",
    "                    # Creating new variables for the hidden state, otherwise\n",
    "                    # we'd backprop through the entire training history\n",
    "                    val_h = tuple([each.data for each in val_h])\n",
    "                    \n",
    "                    inputs, targets = x, y\n",
    "                    if(train_on_gpu):\n",
    "                        inputs, targets = inputs.to(torch.device('mps')), targets.to(torch.device('mps'))\n",
    "\n",
    "                    output, val_h = net(inputs, val_h)\n",
    "                    val_loss = criterion(output, targets.view(batch_size*seq_length).long())\n",
    "                \n",
    "                    val_losses.append(val_loss.item())\n",
    "                \n",
    "                net.train() # reset to train mode after iterationg through validation data\n",
    "                \n",
    "                print(\"Epoch: {}/{}...\".format(e+1, epochs),\n",
    "                      \"Step: {}...\".format(counter),\n",
    "                      \"Loss: {:.4f}...\".format(loss.item()),\n",
    "                      \"Val Loss: {:.4f}\".format(np.mean(val_losses)))"
   ]
  },
  {
   "cell_type": "markdown",
   "metadata": {},
   "source": [
    "## Instantiating the model\n",
    "\n",
    "Now we can actually train the network. First we'll create the network itself, with some given hyperparameters. Then, define the mini-batches sizes, and start training!"
   ]
  },
  {
   "cell_type": "code",
   "execution_count": 17,
   "metadata": {},
   "outputs": [
    {
     "name": "stdout",
     "output_type": "stream",
     "text": [
      "CharRNN(\n",
      "  (lstm): LSTM(83, 512, num_layers=2, batch_first=True, dropout=0.5)\n",
      "  (drop_out): Dropout(p=0.5, inplace=False)\n",
      "  (fc1): Linear(in_features=512, out_features=83, bias=True)\n",
      ")\n"
     ]
    }
   ],
   "source": [
    "## TODO: set your model hyperparameters\n",
    "# define and print the net\n",
    "n_hidden= 512\n",
    "n_layers= 2\n",
    "\n",
    "net = CharRNN(chars, n_hidden, n_layers)\n",
    "print(net)"
   ]
  },
  {
   "cell_type": "markdown",
   "metadata": {},
   "source": [
    "### Set your training hyperparameters!"
   ]
  },
  {
   "cell_type": "code",
   "execution_count": 18,
   "metadata": {
    "scrolled": true
   },
   "outputs": [
    {
     "name": "stdout",
     "output_type": "stream",
     "text": [
      "Epoch: 1/10... Step: 10... Loss: 3.2592... Val Loss: 3.1758\n",
      "Epoch: 1/10... Step: 20... Loss: 3.1482... Val Loss: 3.1307\n",
      "Epoch: 1/10... Step: 30... Loss: 3.1422... Val Loss: 3.1219\n",
      "Epoch: 1/10... Step: 40... Loss: 3.1109... Val Loss: 3.1188\n",
      "Epoch: 1/10... Step: 50... Loss: 3.1403... Val Loss: 3.1174\n",
      "Epoch: 1/10... Step: 60... Loss: 3.1160... Val Loss: 3.1145\n",
      "Epoch: 1/10... Step: 70... Loss: 3.1015... Val Loss: 3.1111\n",
      "Epoch: 1/10... Step: 80... Loss: 3.1161... Val Loss: 3.1019\n",
      "Epoch: 1/10... Step: 90... Loss: 3.0967... Val Loss: 3.0812\n",
      "Epoch: 1/10... Step: 100... Loss: 3.0495... Val Loss: 3.0311\n",
      "Epoch: 1/10... Step: 110... Loss: 2.9831... Val Loss: 2.9596\n",
      "Epoch: 1/10... Step: 120... Loss: 2.8369... Val Loss: 2.8266\n",
      "Epoch: 1/10... Step: 130... Loss: 2.7524... Val Loss: 2.6893\n",
      "Epoch: 2/10... Step: 140... Loss: 2.6601... Val Loss: 2.5992\n",
      "Epoch: 2/10... Step: 150... Loss: 2.5963... Val Loss: 2.5353\n",
      "Epoch: 2/10... Step: 160... Loss: 2.5309... Val Loss: 2.4937\n",
      "Epoch: 2/10... Step: 170... Loss: 2.4761... Val Loss: 2.4529\n",
      "Epoch: 2/10... Step: 180... Loss: 2.4431... Val Loss: 2.4178\n",
      "Epoch: 2/10... Step: 190... Loss: 2.3920... Val Loss: 2.3874\n",
      "Epoch: 2/10... Step: 200... Loss: 2.3901... Val Loss: 2.3582\n",
      "Epoch: 2/10... Step: 210... Loss: 2.3512... Val Loss: 2.3308\n",
      "Epoch: 2/10... Step: 220... Loss: 2.3211... Val Loss: 2.3013\n",
      "Epoch: 2/10... Step: 230... Loss: 2.2976... Val Loss: 2.2717\n",
      "Epoch: 2/10... Step: 240... Loss: 2.2803... Val Loss: 2.2446\n",
      "Epoch: 2/10... Step: 250... Loss: 2.2157... Val Loss: 2.2176\n",
      "Epoch: 2/10... Step: 260... Loss: 2.1909... Val Loss: 2.1900\n",
      "Epoch: 2/10... Step: 270... Loss: 2.2010... Val Loss: 2.1656\n",
      "Epoch: 3/10... Step: 280... Loss: 2.1891... Val Loss: 2.1455\n",
      "Epoch: 3/10... Step: 290... Loss: 2.1638... Val Loss: 2.1193\n",
      "Epoch: 3/10... Step: 300... Loss: 2.1387... Val Loss: 2.1028\n",
      "Epoch: 3/10... Step: 310... Loss: 2.1115... Val Loss: 2.0837\n",
      "Epoch: 3/10... Step: 320... Loss: 2.0839... Val Loss: 2.0642\n",
      "Epoch: 3/10... Step: 330... Loss: 2.0512... Val Loss: 2.0498\n",
      "Epoch: 3/10... Step: 340... Loss: 2.0842... Val Loss: 2.0286\n",
      "Epoch: 3/10... Step: 350... Loss: 2.0546... Val Loss: 2.0166\n",
      "Epoch: 3/10... Step: 360... Loss: 1.9895... Val Loss: 1.9973\n",
      "Epoch: 3/10... Step: 370... Loss: 2.0116... Val Loss: 1.9811\n",
      "Epoch: 3/10... Step: 380... Loss: 1.9996... Val Loss: 1.9659\n",
      "Epoch: 3/10... Step: 390... Loss: 1.9781... Val Loss: 1.9498\n",
      "Epoch: 3/10... Step: 400... Loss: 1.9397... Val Loss: 1.9402\n",
      "Epoch: 3/10... Step: 410... Loss: 1.9513... Val Loss: 1.9238\n",
      "Epoch: 4/10... Step: 420... Loss: 1.9481... Val Loss: 1.9123\n",
      "Epoch: 4/10... Step: 430... Loss: 1.9325... Val Loss: 1.8951\n",
      "Epoch: 4/10... Step: 440... Loss: 1.9181... Val Loss: 1.8821\n",
      "Epoch: 4/10... Step: 450... Loss: 1.8576... Val Loss: 1.8702\n",
      "Epoch: 4/10... Step: 460... Loss: 1.8468... Val Loss: 1.8589\n",
      "Epoch: 4/10... Step: 470... Loss: 1.8780... Val Loss: 1.8527\n",
      "Epoch: 4/10... Step: 480... Loss: 1.8603... Val Loss: 1.8367\n",
      "Epoch: 4/10... Step: 490... Loss: 1.8650... Val Loss: 1.8229\n",
      "Epoch: 4/10... Step: 500... Loss: 1.8559... Val Loss: 1.8144\n",
      "Epoch: 4/10... Step: 510... Loss: 1.8305... Val Loss: 1.8031\n",
      "Epoch: 4/10... Step: 520... Loss: 1.8369... Val Loss: 1.7928\n",
      "Epoch: 4/10... Step: 530... Loss: 1.8104... Val Loss: 1.7824\n",
      "Epoch: 4/10... Step: 540... Loss: 1.7671... Val Loss: 1.7752\n",
      "Epoch: 4/10... Step: 550... Loss: 1.8150... Val Loss: 1.7632\n",
      "Epoch: 5/10... Step: 560... Loss: 1.7804... Val Loss: 1.7499\n",
      "Epoch: 5/10... Step: 570... Loss: 1.7678... Val Loss: 1.7440\n",
      "Epoch: 5/10... Step: 580... Loss: 1.7403... Val Loss: 1.7350\n",
      "Epoch: 5/10... Step: 590... Loss: 1.7431... Val Loss: 1.7225\n",
      "Epoch: 5/10... Step: 600... Loss: 1.7242... Val Loss: 1.7196\n",
      "Epoch: 5/10... Step: 610... Loss: 1.7153... Val Loss: 1.7144\n",
      "Epoch: 5/10... Step: 620... Loss: 1.7207... Val Loss: 1.7049\n",
      "Epoch: 5/10... Step: 630... Loss: 1.7354... Val Loss: 1.6964\n",
      "Epoch: 5/10... Step: 640... Loss: 1.7059... Val Loss: 1.6893\n",
      "Epoch: 5/10... Step: 650... Loss: 1.6911... Val Loss: 1.6786\n",
      "Epoch: 5/10... Step: 660... Loss: 1.6698... Val Loss: 1.6702\n",
      "Epoch: 5/10... Step: 670... Loss: 1.6964... Val Loss: 1.6643\n",
      "Epoch: 5/10... Step: 680... Loss: 1.6870... Val Loss: 1.6591\n",
      "Epoch: 5/10... Step: 690... Loss: 1.6640... Val Loss: 1.6538\n",
      "Epoch: 6/10... Step: 700... Loss: 1.6629... Val Loss: 1.6458\n",
      "Epoch: 6/10... Step: 710... Loss: 1.6553... Val Loss: 1.6395\n",
      "Epoch: 6/10... Step: 720... Loss: 1.6431... Val Loss: 1.6330\n",
      "Epoch: 6/10... Step: 730... Loss: 1.6538... Val Loss: 1.6264\n",
      "Epoch: 6/10... Step: 740... Loss: 1.6204... Val Loss: 1.6230\n",
      "Epoch: 6/10... Step: 750... Loss: 1.5979... Val Loss: 1.6166\n",
      "Epoch: 6/10... Step: 760... Loss: 1.6345... Val Loss: 1.6128\n",
      "Epoch: 6/10... Step: 770... Loss: 1.6283... Val Loss: 1.6082\n",
      "Epoch: 6/10... Step: 780... Loss: 1.6018... Val Loss: 1.5995\n",
      "Epoch: 6/10... Step: 790... Loss: 1.5950... Val Loss: 1.5940\n",
      "Epoch: 6/10... Step: 800... Loss: 1.6125... Val Loss: 1.5909\n",
      "Epoch: 6/10... Step: 810... Loss: 1.5970... Val Loss: 1.5859\n",
      "Epoch: 6/10... Step: 820... Loss: 1.5578... Val Loss: 1.5781\n",
      "Epoch: 6/10... Step: 830... Loss: 1.5970... Val Loss: 1.5756\n",
      "Epoch: 7/10... Step: 840... Loss: 1.5515... Val Loss: 1.5699\n",
      "Epoch: 7/10... Step: 850... Loss: 1.5802... Val Loss: 1.5657\n",
      "Epoch: 7/10... Step: 860... Loss: 1.5618... Val Loss: 1.5596\n",
      "Epoch: 7/10... Step: 870... Loss: 1.5699... Val Loss: 1.5557\n",
      "Epoch: 7/10... Step: 880... Loss: 1.5672... Val Loss: 1.5561\n",
      "Epoch: 7/10... Step: 890... Loss: 1.5678... Val Loss: 1.5507\n",
      "Epoch: 7/10... Step: 900... Loss: 1.5469... Val Loss: 1.5463\n",
      "Epoch: 7/10... Step: 910... Loss: 1.5187... Val Loss: 1.5423\n",
      "Epoch: 7/10... Step: 920... Loss: 1.5378... Val Loss: 1.5372\n"
     ]
    },
    {
     "ename": "KeyboardInterrupt",
     "evalue": "",
     "output_type": "error",
     "traceback": [
      "\u001b[0;31m---------------------------------------------------------------------------\u001b[0m",
      "\u001b[0;31mKeyboardInterrupt\u001b[0m                         Traceback (most recent call last)",
      "\u001b[1;32m/Users/rithickumar/Desktop/Pytorch-repo/Deep-Learning-With-Pytorch/recurrent-neural-networks/char-rnn/Character_Level_RNN_Exercise.ipynb Cell 36\u001b[0m in \u001b[0;36m<cell line: 6>\u001b[0;34m()\u001b[0m\n\u001b[1;32m      <a href='vscode-notebook-cell:/Users/rithickumar/Desktop/Pytorch-repo/Deep-Learning-With-Pytorch/recurrent-neural-networks/char-rnn/Character_Level_RNN_Exercise.ipynb#X50sZmlsZQ%3D%3D?line=2'>3</a>\u001b[0m n_epochs \u001b[39m=\u001b[39m  \u001b[39m10\u001b[39m \u001b[39m# start small if you are just testing initial behavior\u001b[39;00m\n\u001b[1;32m      <a href='vscode-notebook-cell:/Users/rithickumar/Desktop/Pytorch-repo/Deep-Learning-With-Pytorch/recurrent-neural-networks/char-rnn/Character_Level_RNN_Exercise.ipynb#X50sZmlsZQ%3D%3D?line=4'>5</a>\u001b[0m \u001b[39m# train the model\u001b[39;00m\n\u001b[0;32m----> <a href='vscode-notebook-cell:/Users/rithickumar/Desktop/Pytorch-repo/Deep-Learning-With-Pytorch/recurrent-neural-networks/char-rnn/Character_Level_RNN_Exercise.ipynb#X50sZmlsZQ%3D%3D?line=5'>6</a>\u001b[0m train(net, encoded, epochs\u001b[39m=\u001b[39;49mn_epochs, batch_size\u001b[39m=\u001b[39;49mbatch_size, seq_length\u001b[39m=\u001b[39;49mseq_length, lr\u001b[39m=\u001b[39;49m\u001b[39m0.001\u001b[39;49m, print_every\u001b[39m=\u001b[39;49m\u001b[39m10\u001b[39;49m)\n",
      "\u001b[1;32m/Users/rithickumar/Desktop/Pytorch-repo/Deep-Learning-With-Pytorch/recurrent-neural-networks/char-rnn/Character_Level_RNN_Exercise.ipynb Cell 36\u001b[0m in \u001b[0;36mtrain\u001b[0;34m(net, data, epochs, batch_size, seq_length, lr, clip, val_frac, print_every)\u001b[0m\n\u001b[1;32m     <a href='vscode-notebook-cell:/Users/rithickumar/Desktop/Pytorch-repo/Deep-Learning-With-Pytorch/recurrent-neural-networks/char-rnn/Character_Level_RNN_Exercise.ipynb#X50sZmlsZQ%3D%3D?line=78'>79</a>\u001b[0m \u001b[39mif\u001b[39;00m(train_on_gpu):\n\u001b[1;32m     <a href='vscode-notebook-cell:/Users/rithickumar/Desktop/Pytorch-repo/Deep-Learning-With-Pytorch/recurrent-neural-networks/char-rnn/Character_Level_RNN_Exercise.ipynb#X50sZmlsZQ%3D%3D?line=79'>80</a>\u001b[0m     inputs, targets \u001b[39m=\u001b[39m inputs\u001b[39m.\u001b[39mto(torch\u001b[39m.\u001b[39mdevice(\u001b[39m'\u001b[39m\u001b[39mmps\u001b[39m\u001b[39m'\u001b[39m)), targets\u001b[39m.\u001b[39mto(torch\u001b[39m.\u001b[39mdevice(\u001b[39m'\u001b[39m\u001b[39mmps\u001b[39m\u001b[39m'\u001b[39m))\n\u001b[0;32m---> <a href='vscode-notebook-cell:/Users/rithickumar/Desktop/Pytorch-repo/Deep-Learning-With-Pytorch/recurrent-neural-networks/char-rnn/Character_Level_RNN_Exercise.ipynb#X50sZmlsZQ%3D%3D?line=81'>82</a>\u001b[0m output, val_h \u001b[39m=\u001b[39m net(inputs, val_h)\n\u001b[1;32m     <a href='vscode-notebook-cell:/Users/rithickumar/Desktop/Pytorch-repo/Deep-Learning-With-Pytorch/recurrent-neural-networks/char-rnn/Character_Level_RNN_Exercise.ipynb#X50sZmlsZQ%3D%3D?line=82'>83</a>\u001b[0m val_loss \u001b[39m=\u001b[39m criterion(output, targets\u001b[39m.\u001b[39mview(batch_size\u001b[39m*\u001b[39mseq_length)\u001b[39m.\u001b[39mlong())\n\u001b[1;32m     <a href='vscode-notebook-cell:/Users/rithickumar/Desktop/Pytorch-repo/Deep-Learning-With-Pytorch/recurrent-neural-networks/char-rnn/Character_Level_RNN_Exercise.ipynb#X50sZmlsZQ%3D%3D?line=84'>85</a>\u001b[0m val_losses\u001b[39m.\u001b[39mappend(val_loss\u001b[39m.\u001b[39mitem())\n",
      "File \u001b[0;32m~/miniforge3/envs/torch-nightly/lib/python3.10/site-packages/torch/nn/modules/module.py:1130\u001b[0m, in \u001b[0;36m_call_impl\u001b[0;34m(self, *input, **kwargs)\u001b[0m\n\u001b[1;32m   1118\u001b[0m \u001b[39mdef\u001b[39;00m \u001b[39mregister_forward_pre_hook\u001b[39m(\u001b[39mself\u001b[39m, hook: Callable[\u001b[39m.\u001b[39m\u001b[39m.\u001b[39m\u001b[39m.\u001b[39m, \u001b[39mNone\u001b[39;00m]) \u001b[39m-\u001b[39m\u001b[39m>\u001b[39m RemovableHandle:\n\u001b[1;32m   1119\u001b[0m     \u001b[39mr\u001b[39m\u001b[39m\"\"\"Registers a forward pre-hook on the module.\u001b[39;00m\n\u001b[1;32m   1120\u001b[0m \n\u001b[1;32m   1121\u001b[0m \u001b[39m    The hook will be called every time before :func:`forward` is invoked.\u001b[39;00m\n\u001b[1;32m   1122\u001b[0m \u001b[39m    It should have the following signature::\u001b[39;00m\n\u001b[1;32m   1123\u001b[0m \n\u001b[1;32m   1124\u001b[0m \u001b[39m        hook(module, input) -> None or modified input\u001b[39;00m\n\u001b[1;32m   1125\u001b[0m \n\u001b[1;32m   1126\u001b[0m \u001b[39m    The input contains only the positional arguments given to the module.\u001b[39;00m\n\u001b[1;32m   1127\u001b[0m \u001b[39m    Keyword arguments won't be passed to the hooks and only to the ``forward``.\u001b[39;00m\n\u001b[1;32m   1128\u001b[0m \u001b[39m    The hook can modify the input. User can either return a tuple or a\u001b[39;00m\n\u001b[1;32m   1129\u001b[0m \u001b[39m    single modified value in the hook. We will wrap the value into a tuple\u001b[39;00m\n\u001b[0;32m-> 1130\u001b[0m \u001b[39m    if a single value is returned(unless that value is already a tuple).\u001b[39;00m\n\u001b[1;32m   1131\u001b[0m \n\u001b[1;32m   1132\u001b[0m \u001b[39m    Returns:\u001b[39;00m\n\u001b[1;32m   1133\u001b[0m \u001b[39m        :class:`torch.utils.hooks.RemovableHandle`:\u001b[39;00m\n\u001b[1;32m   1134\u001b[0m \u001b[39m            a handle that can be used to remove the added hook by calling\u001b[39;00m\n\u001b[1;32m   1135\u001b[0m \u001b[39m            ``handle.remove()``\u001b[39;00m\n\u001b[1;32m   1136\u001b[0m \u001b[39m    \"\"\"\u001b[39;00m\n\u001b[1;32m   1137\u001b[0m     handle \u001b[39m=\u001b[39m hooks\u001b[39m.\u001b[39mRemovableHandle(\u001b[39mself\u001b[39m\u001b[39m.\u001b[39m_forward_pre_hooks)\n\u001b[1;32m   1138\u001b[0m     \u001b[39mself\u001b[39m\u001b[39m.\u001b[39m_forward_pre_hooks[handle\u001b[39m.\u001b[39mid] \u001b[39m=\u001b[39m hook\n",
      "\u001b[1;32m/Users/rithickumar/Desktop/Pytorch-repo/Deep-Learning-With-Pytorch/recurrent-neural-networks/char-rnn/Character_Level_RNN_Exercise.ipynb Cell 36\u001b[0m in \u001b[0;36mCharRNN.forward\u001b[0;34m(self, x, hidden)\u001b[0m\n\u001b[1;32m     <a href='vscode-notebook-cell:/Users/rithickumar/Desktop/Pytorch-repo/Deep-Learning-With-Pytorch/recurrent-neural-networks/char-rnn/Character_Level_RNN_Exercise.ipynb#X50sZmlsZQ%3D%3D?line=24'>25</a>\u001b[0m \u001b[39m''' Forward pass through the network. \u001b[39;00m\n\u001b[1;32m     <a href='vscode-notebook-cell:/Users/rithickumar/Desktop/Pytorch-repo/Deep-Learning-With-Pytorch/recurrent-neural-networks/char-rnn/Character_Level_RNN_Exercise.ipynb#X50sZmlsZQ%3D%3D?line=25'>26</a>\u001b[0m \u001b[39m    These inputs are x, and the hidden/cell state `hidden`. '''\u001b[39;00m\n\u001b[1;32m     <a href='vscode-notebook-cell:/Users/rithickumar/Desktop/Pytorch-repo/Deep-Learning-With-Pytorch/recurrent-neural-networks/char-rnn/Character_Level_RNN_Exercise.ipynb#X50sZmlsZQ%3D%3D?line=27'>28</a>\u001b[0m \u001b[39m## TODO: Get the outputs and the new hidden state from the lstm\u001b[39;00m\n\u001b[0;32m---> <a href='vscode-notebook-cell:/Users/rithickumar/Desktop/Pytorch-repo/Deep-Learning-With-Pytorch/recurrent-neural-networks/char-rnn/Character_Level_RNN_Exercise.ipynb#X50sZmlsZQ%3D%3D?line=28'>29</a>\u001b[0m out,hidden \u001b[39m=\u001b[39m \u001b[39mself\u001b[39;49m\u001b[39m.\u001b[39;49mlstm(x,hidden)\n\u001b[1;32m     <a href='vscode-notebook-cell:/Users/rithickumar/Desktop/Pytorch-repo/Deep-Learning-With-Pytorch/recurrent-neural-networks/char-rnn/Character_Level_RNN_Exercise.ipynb#X50sZmlsZQ%3D%3D?line=29'>30</a>\u001b[0m out \u001b[39m=\u001b[39m \u001b[39mself\u001b[39m\u001b[39m.\u001b[39mdrop_out(out)\n\u001b[1;32m     <a href='vscode-notebook-cell:/Users/rithickumar/Desktop/Pytorch-repo/Deep-Learning-With-Pytorch/recurrent-neural-networks/char-rnn/Character_Level_RNN_Exercise.ipynb#X50sZmlsZQ%3D%3D?line=31'>32</a>\u001b[0m \u001b[39m# return the final output and the hidden state\u001b[39;00m\n",
      "File \u001b[0;32m~/miniforge3/envs/torch-nightly/lib/python3.10/site-packages/torch/nn/modules/module.py:1130\u001b[0m, in \u001b[0;36m_call_impl\u001b[0;34m(self, *input, **kwargs)\u001b[0m\n\u001b[1;32m   1118\u001b[0m \u001b[39mdef\u001b[39;00m \u001b[39mregister_forward_pre_hook\u001b[39m(\u001b[39mself\u001b[39m, hook: Callable[\u001b[39m.\u001b[39m\u001b[39m.\u001b[39m\u001b[39m.\u001b[39m, \u001b[39mNone\u001b[39;00m]) \u001b[39m-\u001b[39m\u001b[39m>\u001b[39m RemovableHandle:\n\u001b[1;32m   1119\u001b[0m     \u001b[39mr\u001b[39m\u001b[39m\"\"\"Registers a forward pre-hook on the module.\u001b[39;00m\n\u001b[1;32m   1120\u001b[0m \n\u001b[1;32m   1121\u001b[0m \u001b[39m    The hook will be called every time before :func:`forward` is invoked.\u001b[39;00m\n\u001b[1;32m   1122\u001b[0m \u001b[39m    It should have the following signature::\u001b[39;00m\n\u001b[1;32m   1123\u001b[0m \n\u001b[1;32m   1124\u001b[0m \u001b[39m        hook(module, input) -> None or modified input\u001b[39;00m\n\u001b[1;32m   1125\u001b[0m \n\u001b[1;32m   1126\u001b[0m \u001b[39m    The input contains only the positional arguments given to the module.\u001b[39;00m\n\u001b[1;32m   1127\u001b[0m \u001b[39m    Keyword arguments won't be passed to the hooks and only to the ``forward``.\u001b[39;00m\n\u001b[1;32m   1128\u001b[0m \u001b[39m    The hook can modify the input. User can either return a tuple or a\u001b[39;00m\n\u001b[1;32m   1129\u001b[0m \u001b[39m    single modified value in the hook. We will wrap the value into a tuple\u001b[39;00m\n\u001b[0;32m-> 1130\u001b[0m \u001b[39m    if a single value is returned(unless that value is already a tuple).\u001b[39;00m\n\u001b[1;32m   1131\u001b[0m \n\u001b[1;32m   1132\u001b[0m \u001b[39m    Returns:\u001b[39;00m\n\u001b[1;32m   1133\u001b[0m \u001b[39m        :class:`torch.utils.hooks.RemovableHandle`:\u001b[39;00m\n\u001b[1;32m   1134\u001b[0m \u001b[39m            a handle that can be used to remove the added hook by calling\u001b[39;00m\n\u001b[1;32m   1135\u001b[0m \u001b[39m            ``handle.remove()``\u001b[39;00m\n\u001b[1;32m   1136\u001b[0m \u001b[39m    \"\"\"\u001b[39;00m\n\u001b[1;32m   1137\u001b[0m     handle \u001b[39m=\u001b[39m hooks\u001b[39m.\u001b[39mRemovableHandle(\u001b[39mself\u001b[39m\u001b[39m.\u001b[39m_forward_pre_hooks)\n\u001b[1;32m   1138\u001b[0m     \u001b[39mself\u001b[39m\u001b[39m.\u001b[39m_forward_pre_hooks[handle\u001b[39m.\u001b[39mid] \u001b[39m=\u001b[39m hook\n",
      "File \u001b[0;32m~/miniforge3/envs/torch-nightly/lib/python3.10/site-packages/torch/nn/modules/rnn.py:769\u001b[0m, in \u001b[0;36mLSTM.forward\u001b[0;34m(self, input, hx)\u001b[0m\n\u001b[1;32m    767\u001b[0m \u001b[39mself\u001b[39m\u001b[39m.\u001b[39mcheck_forward_args(\u001b[39minput\u001b[39m, hx, batch_sizes)\n\u001b[1;32m    768\u001b[0m \u001b[39mif\u001b[39;00m batch_sizes \u001b[39mis\u001b[39;00m \u001b[39mNone\u001b[39;00m:\n\u001b[0;32m--> 769\u001b[0m     result \u001b[39m=\u001b[39m _VF\u001b[39m.\u001b[39;49mlstm(\u001b[39minput\u001b[39;49m, hx, \u001b[39mself\u001b[39;49m\u001b[39m.\u001b[39;49m_flat_weights, \u001b[39mself\u001b[39;49m\u001b[39m.\u001b[39;49mbias, \u001b[39mself\u001b[39;49m\u001b[39m.\u001b[39;49mnum_layers,\n\u001b[1;32m    770\u001b[0m                       \u001b[39mself\u001b[39;49m\u001b[39m.\u001b[39;49mdropout, \u001b[39mself\u001b[39;49m\u001b[39m.\u001b[39;49mtraining, \u001b[39mself\u001b[39;49m\u001b[39m.\u001b[39;49mbidirectional, \u001b[39mself\u001b[39;49m\u001b[39m.\u001b[39;49mbatch_first)\n\u001b[1;32m    771\u001b[0m \u001b[39melse\u001b[39;00m:\n\u001b[1;32m    772\u001b[0m     result \u001b[39m=\u001b[39m _VF\u001b[39m.\u001b[39mlstm(\u001b[39minput\u001b[39m, batch_sizes, hx, \u001b[39mself\u001b[39m\u001b[39m.\u001b[39m_flat_weights, \u001b[39mself\u001b[39m\u001b[39m.\u001b[39mbias,\n\u001b[1;32m    773\u001b[0m                       \u001b[39mself\u001b[39m\u001b[39m.\u001b[39mnum_layers, \u001b[39mself\u001b[39m\u001b[39m.\u001b[39mdropout, \u001b[39mself\u001b[39m\u001b[39m.\u001b[39mtraining, \u001b[39mself\u001b[39m\u001b[39m.\u001b[39mbidirectional)\n",
      "\u001b[0;31mKeyboardInterrupt\u001b[0m: "
     ]
    }
   ],
   "source": [
    "batch_size = 128\n",
    "seq_length = 100\n",
    "n_epochs =  10 # start small if you are just testing initial behavior\n",
    "\n",
    "# train the model\n",
    "train(net, encoded, epochs=n_epochs, batch_size=batch_size, seq_length=seq_length, lr=0.001, print_every=10)"
   ]
  },
  {
   "cell_type": "markdown",
   "metadata": {},
   "source": [
    "## Getting the best model\n",
    "\n",
    "To set your hyperparameters to get the best performance, you'll want to watch the training and validation losses. If your training loss is much lower than the validation loss, you're overfitting. Increase regularization (more dropout) or use a smaller network. If the training and validation losses are close, you're underfitting so you can increase the size of the network."
   ]
  },
  {
   "cell_type": "markdown",
   "metadata": {},
   "source": [
    "## Hyperparameters\n",
    "\n",
    "Here are the hyperparameters for the network.\n",
    "\n",
    "In defining the model:\n",
    "* `n_hidden` - The number of units in the hidden layers.\n",
    "* `n_layers` - Number of hidden LSTM layers to use.\n",
    "\n",
    "We assume that dropout probability and learning rate will be kept at the default, in this example.\n",
    "\n",
    "And in training:\n",
    "* `batch_size` - Number of sequences running through the network in one pass.\n",
    "* `seq_length` - Number of characters in the sequence the network is trained on. Larger is better typically, the network will learn more long range dependencies. But it takes longer to train. 100 is typically a good number here.\n",
    "* `lr` - Learning rate for training\n",
    "\n",
    "Here's some good advice from Andrej Karpathy on training the network. I'm going to copy it in here for your benefit, but also link to [where it originally came from](https://github.com/karpathy/char-rnn#tips-and-tricks).\n",
    "\n",
    "> ## Tips and Tricks\n",
    "\n",
    ">### Monitoring Validation Loss vs. Training Loss\n",
    ">If you're somewhat new to Machine Learning or Neural Networks it can take a bit of expertise to get good models. The most important quantity to keep track of is the difference between your training loss (printed during training) and the validation loss (printed once in a while when the RNN is run on the validation data (by default every 1000 iterations)). In particular:\n",
    "\n",
    "> - If your training loss is much lower than validation loss then this means the network might be **overfitting**. Solutions to this are to decrease your network size, or to increase dropout. For example you could try dropout of 0.5 and so on.\n",
    "> - If your training/validation loss are about equal then your model is **underfitting**. Increase the size of your model (either number of layers or the raw number of neurons per layer)\n",
    "\n",
    "> ### Approximate number of parameters\n",
    "\n",
    "> The two most important parameters that control the model are `n_hidden` and `n_layers`. I would advise that you always use `n_layers` of either 2/3. The `n_hidden` can be adjusted based on how much data you have. The two important quantities to keep track of here are:\n",
    "\n",
    "> - The number of parameters in your model. This is printed when you start training.\n",
    "> - The size of your dataset. 1MB file is approximately 1 million characters.\n",
    "\n",
    ">These two should be about the same order of magnitude. It's a little tricky to tell. Here are some examples:\n",
    "\n",
    "> - I have a 100MB dataset and I'm using the default parameter settings (which currently print 150K parameters). My data size is significantly larger (100 mil >> 0.15 mil), so I expect to heavily underfit. I am thinking I can comfortably afford to make `n_hidden` larger.\n",
    "> - I have a 10MB dataset and running a 10 million parameter model. I'm slightly nervous and I'm carefully monitoring my validation loss. If it's larger than my training loss then I may want to try to increase dropout a bit and see if that helps the validation loss.\n",
    "\n",
    "> ### Best models strategy\n",
    "\n",
    ">The winning strategy to obtaining very good models (if you have the compute time) is to always err on making the network larger (as large as you're willing to wait for it to compute) and then try different dropout values (between 0,1). Whatever model has the best validation performance (the loss, written in the checkpoint filename, low is good) is the one you should use in the end.\n",
    "\n",
    ">It is very common in deep learning to run many different models with many different hyperparameter settings, and in the end take whatever checkpoint gave the best validation performance.\n",
    "\n",
    ">By the way, the size of your training and validation splits are also parameters. Make sure you have a decent amount of data in your validation set or otherwise the validation performance will be noisy and not very informative."
   ]
  },
  {
   "cell_type": "markdown",
   "metadata": {},
   "source": [
    "## Checkpoint\n",
    "\n",
    "After training, we'll save the model so we can load it again later if we need too. Here I'm saving the parameters needed to create the same architecture, the hidden layer hyperparameters and the text characters."
   ]
  },
  {
   "cell_type": "code",
   "execution_count": 30,
   "metadata": {},
   "outputs": [],
   "source": [
    "# change the name, for saving multiple files\n",
    "model_name = 'rnn_x_epoch.net'\n",
    "\n",
    "checkpoint = {'n_hidden': net.n_hidden,\n",
    "              'n_layers': net.n_layers,\n",
    "              'state_dict': net.state_dict(),\n",
    "              'tokens': net.chars}\n",
    "\n",
    "with open(model_name, 'wb') as f:\n",
    "    torch.save(checkpoint, f)"
   ]
  },
  {
   "cell_type": "markdown",
   "metadata": {},
   "source": [
    "---\n",
    "## Making Predictions\n",
    "\n",
    "Now that the model is trained, we'll want to sample from it and make predictions about next characters! To sample, we pass in a character and have the network predict the next character. Then we take that character, pass it back in, and get another predicted character. Just keep doing this and you'll generate a bunch of text!\n",
    "\n",
    "### A note on the `predict`  function\n",
    "\n",
    "The output of our RNN is from a fully-connected layer and it outputs a **distribution of next-character scores**.\n",
    "\n",
    "> To actually get the next character, we apply a softmax function, which gives us a *probability* distribution that we can then sample to predict the next character.\n",
    "\n",
    "### Top K sampling\n",
    "\n",
    "Our predictions come from a categorical probability distribution over all the possible characters. We can make the sample text and make it more reasonable to handle (with less variables) by only considering some $K$ most probable characters. This will prevent the network from giving us completely absurd characters while allowing it to introduce some noise and randomness into the sampled text. Read more about [topk, here](https://pytorch.org/docs/stable/torch.html#torch.topk).\n"
   ]
  },
  {
   "cell_type": "code",
   "execution_count": 31,
   "metadata": {},
   "outputs": [],
   "source": [
    "def predict(net, char, h=None, top_k=None):\n",
    "        ''' Given a character, predict the next character.\n",
    "            Returns the predicted character and the hidden state.\n",
    "        '''\n",
    "        \n",
    "        # tensor inputs\n",
    "        x = np.array([[net.char2int[char]]])\n",
    "        x = one_hot_encode(x, len(net.chars))\n",
    "        inputs = torch.from_numpy(x)\n",
    "        \n",
    "        if(train_on_gpu):\n",
    "            inputs = inputs.to(torch.device('mps'))\n",
    "        \n",
    "        # detach hidden state from history\n",
    "        h = tuple([each.data for each in h])\n",
    "        # get the output of the model\n",
    "        out, h = net(inputs, h)\n",
    "\n",
    "        # get the character probabilities\n",
    "        p = F.softmax(out, dim=1).data\n",
    "        if(train_on_gpu):\n",
    "            p = p.cpu() # move to cpu\n",
    "        \n",
    "        # get top characters\n",
    "        if top_k is None:\n",
    "            top_ch = np.arange(len(net.chars))\n",
    "        else:\n",
    "            p, top_ch = p.topk(top_k)\n",
    "            top_ch = top_ch.numpy().squeeze()\n",
    "        \n",
    "        # select the likely next character with some element of randomness\n",
    "        p = p.numpy().squeeze()\n",
    "        char = np.random.choice(top_ch, p=p/p.sum())\n",
    "        \n",
    "        # return the encoded value of the predicted char and the hidden state\n",
    "        return net.int2char[char], h"
   ]
  },
  {
   "cell_type": "markdown",
   "metadata": {},
   "source": [
    "### Priming and generating text \n",
    "\n",
    "Typically you'll want to prime the network so you can build up a hidden state. Otherwise the network will start out generating characters at random. In general the first bunch of characters will be a little rough since it hasn't built up a long history of characters to predict from."
   ]
  },
  {
   "cell_type": "code",
   "execution_count": 32,
   "metadata": {},
   "outputs": [],
   "source": [
    "def sample(net, size, prime='The', top_k=None):\n",
    "        \n",
    "    if(train_on_gpu):\n",
    "        net.to(torch.device('mps'))\n",
    "    else:\n",
    "        net.cpu()\n",
    "    \n",
    "    net.eval() # eval mode\n",
    "    \n",
    "    # First off, run through the prime characters\n",
    "    chars = [ch for ch in prime]\n",
    "    h = net.init_hidden(1)\n",
    "    for ch in prime:\n",
    "        char, h = predict(net, ch, h, top_k=top_k)\n",
    "\n",
    "    chars.append(char)\n",
    "    \n",
    "    # Now pass in the previous character and get a new one\n",
    "    for ii in range(size):\n",
    "        char, h = predict(net, chars[-1], h, top_k=top_k)\n",
    "        chars.append(char)\n",
    "\n",
    "    return ''.join(chars)"
   ]
  },
  {
   "cell_type": "code",
   "execution_count": 33,
   "metadata": {},
   "outputs": [
    {
     "name": "stdout",
     "output_type": "stream",
     "text": [
      "Annad  an tae ae thi ated tan tir tie enste terie hon ii  he ied tae hort arrta  hoe he ao sie  iee had ton thit eade\n",
      "\"\n",
      " ae eat oore ied the eat ion io  eo entin  eratt hod\n",
      " tor iorset oteses hint attet ian aod on hies atr inrte ee aod oa tot eis ae he anttet ane aa te ant ha  ee en tie ton  oetee sed ate hin ee hir ior thed\n",
      "\n",
      "oan the an antins oar aa e ei te har theet it he ees te tonttite tent ot he thie se he toesthe ae aine  ao iestars on an and hode\n",
      "\"s ieed ao  he hed hertete tottat ho intte  orr an io  ee han hid inee, aa  he he had thi  er enttit had aetth se hhes on ter ine  aeee\n",
      " an aee  ati  aoe at tet onsd an thot an hhe siree tis her oo ee in  oo  oi at ton  on ae hi en an hhd iin hes iir atree serie tir iind hin  hhe he ied anet hi en ao en an iid, hhe and on iir eir an in  ar aa sin  on aadd in hed ans iit ate the tine tiete\n",
      " ao iane soe teedd\n",
      "ao  ho teee te ie tan hee in ee tarse iod toe hes hir tet oe iade and inr oares ion  hae ae iod te attae  aris eed ao  ei te ene he  ond\n"
     ]
    }
   ],
   "source": [
    "print(sample(net, 1000, prime='Anna', top_k=5))"
   ]
  },
  {
   "cell_type": "markdown",
   "metadata": {},
   "source": [
    "## Loading a checkpoint"
   ]
  },
  {
   "cell_type": "code",
   "execution_count": 34,
   "metadata": {},
   "outputs": [
    {
     "data": {
      "text/plain": [
       "<All keys matched successfully>"
      ]
     },
     "execution_count": 34,
     "metadata": {},
     "output_type": "execute_result"
    }
   ],
   "source": [
    "# Here we have loaded in a model that trained over 20 epochs `rnn_20_epoch.net`\n",
    "with open('rnn_x_epoch.net', 'rb') as f:\n",
    "    checkpoint = torch.load(f)\n",
    "    \n",
    "loaded = CharRNN(checkpoint['tokens'], n_hidden=checkpoint['n_hidden'], n_layers=checkpoint['n_layers'])\n",
    "loaded.load_state_dict(checkpoint['state_dict'])"
   ]
  },
  {
   "cell_type": "code",
   "execution_count": 35,
   "metadata": {},
   "outputs": [
    {
     "name": "stdout",
     "output_type": "stream",
     "text": [
      "And Levin said han  oe ie attet hate  oe ii sint an ees ho ae ter aa  oa the tot ee he ha thate\n",
      ",\n",
      " an tee he tarttir ind at hot inr hi tetae  ha  eied ia  oae te ee hed he hered\n",
      "\n",
      "hit had heree shin thod wase aer atet oed har thod torsee toed he iod anes hor eate  iat ae eod ior eirsd ae he ane ie the ent e an iod ao tar torteed, aade\n",
      " on he ine hhd ho ens hati e iar aatd tar in thes on tae ho son ta tind ane ton ao eass iad iinttie hod oo e he and he hod oan  ier hedd an tan an ae aord tar ter herten  eote hhr ind ao  ie atee se te hin ate en hie sir totin  intae ted hee  ane an aede aa  han tee ant ore at ear eett ere tars ha e tat hadd antt etieg aat io  aned hh etes taet toed oir ia se ate ta thes, hond ot eee an tinst on ii  ain he an atre iit an ha eee an he tine toe the aa  eon aad intas tat en aa to tat anse aand in he aore ier io  eo ee atree tho eed hord tat ton te had, ton had tin  ae tae tare in tir hir atddtt hhit ier he toe  ond teed hor hin  ane inr tend io  oere ao  ooe tirs ha site aa se hed hhrst ons ie an hied iete  eeetit hi sote  iant art otee ant hin an hod to e he ha aess he at tiese tone  attha en ans tii te ier ion tae teta etetit hes ae eot ha ton aa  hhited hhe ae an hat inte ho ened hht hod oa ens oa tir to an tar atr anss tae aan hod ate ee tetia tone ho seet ter an ee iind thrr hi  eon e tan  hers aee tintse\n",
      " oo tand the eant\n",
      " io e iod tons ontit an an thres\n",
      "tird aand ior ee an aad an ae ii  ae ae ta ton ha toe in tin  on ine tot iin  one tete ten hh thi antia  iee in aod,,.. \" on tat ee titi s ean ae  he etit te ie  oret ta ans ian thine  in e ho tii ee te atte  oe teet te ee aar ead thes ane han  oa ai toe har iotd\n",
      "s eon te iee\n",
      "stans ie ties aar hh  eone  hoe  arris aat aosd in eit ie ens he ieese sot hir iotet hot ie in aod oo  he aet han ies oa sin hot ante sat ter han iad hh the taed an ait ha an toete aa etet in anses ie to  eran te thos he aon tat te tit teee shn eis ai tha thare iat aad tee ae aa  eir ten an tone  int and, atdd oad ae the hhre \n"
     ]
    }
   ],
   "source": [
    "# Sample using a loaded model\n",
    "print(sample(loaded, 2000, top_k=5, prime=\"And Levin said\"))"
   ]
  },
  {
   "cell_type": "code",
   "execution_count": null,
   "metadata": {
    "collapsed": true
   },
   "outputs": [],
   "source": []
  }
 ],
 "metadata": {
  "kernelspec": {
   "display_name": "Python 3.10.5 ('torch-nightly')",
   "language": "python",
   "name": "python3"
  },
  "language_info": {
   "codemirror_mode": {
    "name": "ipython",
    "version": 3
   },
   "file_extension": ".py",
   "mimetype": "text/x-python",
   "name": "python",
   "nbconvert_exporter": "python",
   "pygments_lexer": "ipython3",
   "version": "3.10.5"
  },
  "vscode": {
   "interpreter": {
    "hash": "9b5f9f4380119d10d38d35fab5174eb35e5c5d005b5419bd03d8aa14d72858f3"
   }
  }
 },
 "nbformat": 4,
 "nbformat_minor": 2
}
