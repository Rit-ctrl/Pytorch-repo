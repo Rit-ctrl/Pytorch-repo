{
  "cells": [
    {
      "cell_type": "markdown",
      "metadata": {
        "colab_type": "text",
        "id": "view-in-github"
      },
      "source": [
        "<a href=\"https://colab.research.google.com/github/Rit-ctrl/Pytorch-repo/blob/main/Pytorch-step-by-step/Chap_01.ipynb\" target=\"_parent\"><img src=\"https://colab.research.google.com/assets/colab-badge.svg\" alt=\"Open In Colab\"/></a>"
      ]
    },
    {
      "cell_type": "markdown",
      "metadata": {
        "id": "Q3kCE72TojBV"
      },
      "source": [
        "Chapter 1 - Linear regression"
      ]
    },
    {
      "cell_type": "code",
      "execution_count": 1,
      "metadata": {
        "colab": {
          "base_uri": "https://localhost:8080/"
        },
        "id": "-GmNqrhnPspc",
        "outputId": "d2028db0-f3c3-4ef9-f53f-0dee52ae086c"
      },
      "outputs": [
        {
          "name": "stdout",
          "output_type": "stream",
          "text": [
            "Looking in indexes: https://pypi.org/simple, https://us-python.pkg.dev/colab-wheels/public/simple/\n",
            "Collecting torchviz\n",
            "  Downloading torchviz-0.0.2.tar.gz (4.9 kB)\n",
            "Requirement already satisfied: torch in /usr/local/lib/python3.7/dist-packages (from torchviz) (1.12.0+cu113)\n",
            "Requirement already satisfied: graphviz in /usr/local/lib/python3.7/dist-packages (from torchviz) (0.10.1)\n",
            "Requirement already satisfied: typing-extensions in /usr/local/lib/python3.7/dist-packages (from torch->torchviz) (4.1.1)\n",
            "Building wheels for collected packages: torchviz\n",
            "  Building wheel for torchviz (setup.py) ... \u001b[?25l\u001b[?25hdone\n",
            "  Created wheel for torchviz: filename=torchviz-0.0.2-py3-none-any.whl size=4150 sha256=9a35932eb4fa1e27563ddd986343367b70bfb9d0b148085eff9cf3b2410a65b2\n",
            "  Stored in directory: /root/.cache/pip/wheels/04/38/f5/dc4f85c3909051823df49901e72015d2d750bd26b086480ec2\n",
            "Successfully built torchviz\n",
            "Installing collected packages: torchviz\n",
            "Successfully installed torchviz-0.0.2\n"
          ]
        }
      ],
      "source": [
        "!pip install torchviz"
      ]
    },
    {
      "cell_type": "code",
      "execution_count": 2,
      "metadata": {
        "id": "QwH1k9YIoo10"
      },
      "outputs": [],
      "source": [
        "import numpy as np\n",
        "from sklearn.linear_model import LinearRegression\n",
        "\n",
        "import torch\n",
        "import torch.optim as optim\n",
        "import torch.nn as nn\n",
        "from torchviz import make_dot"
      ]
    },
    {
      "cell_type": "markdown",
      "metadata": {
        "id": "gIZFcYLtQCB1"
      },
      "source": [
        "## Data Generation"
      ]
    },
    {
      "cell_type": "code",
      "execution_count": 3,
      "metadata": {
        "id": "uQftLU3OopVH"
      },
      "outputs": [],
      "source": [
        "true_b = 1\n",
        "true_w = 2\n",
        "N = 100\n",
        "\n",
        "# Data Generation\n",
        "np.random.seed(42)\n",
        "x = np.random.rand(N, 1)\n",
        "epsilon = (.1 * np.random.randn(N, 1))\n",
        "y = true_b + true_w * x + epsilon"
      ]
    },
    {
      "cell_type": "code",
      "execution_count": 4,
      "metadata": {
        "id": "9jSgl3i4QH3d"
      },
      "outputs": [],
      "source": [
        "idx = np.arange(N)\n",
        "np.random.shuffle(idx)\n",
        "\n",
        "# Uses first 80 random indices for train\n",
        "train_idx = idx[:int(N*.8)]\n",
        "# Uses the remaining indices for validation\n",
        "val_idx = idx[int(N*.8):]\n",
        "\n",
        "# Generates train and validation sets\n",
        "x_train, y_train = x[train_idx], y[train_idx]\n",
        "x_val, y_val = x[val_idx], y[val_idx]\n"
      ]
    },
    {
      "cell_type": "code",
      "execution_count": 5,
      "metadata": {
        "id": "n_e3R9IWQlz2"
      },
      "outputs": [],
      "source": [
        "import matplotlib.pyplot as plt\n"
      ]
    },
    {
      "cell_type": "code",
      "execution_count": 7,
      "metadata": {
        "colab": {
          "base_uri": "https://localhost:8080/",
          "height": 283
        },
        "id": "F127X5OsQuLJ",
        "outputId": "7d2aa4da-a909-45d3-b00e-eb2c88eabc3e"
      },
      "outputs": [
        {
          "data": {
            "text/plain": [
              "<matplotlib.collections.PathCollection at 0x7fc81607a490>"
            ]
          },
          "execution_count": 7,
          "metadata": {},
          "output_type": "execute_result"
        },
        {
          "data": {
            "image/png": "[encoded data removed]",
            "text/plain": [
              "<Figure size 432x288 with 1 Axes>"
            ]
          },
          "metadata": {
            "needs_background": "light"
          },
          "output_type": "display_data"
        }
      ],
      "source": [
        "plt.scatter(x_train,y_train) #training data"
      ]
    },
    {
      "cell_type": "code",
      "execution_count": 8,
      "metadata": {
        "colab": {
          "base_uri": "https://localhost:8080/",
          "height": 283
        },
        "id": "IzgpoHw9Qwrn",
        "outputId": "c1d7e1b9-f6b9-4fa7-dfc4-107bb2fb43e7"
      },
      "outputs": [
        {
          "data": {
            "text/plain": [
              "<matplotlib.collections.PathCollection at 0x7fc815873f10>"
            ]
          },
          "execution_count": 8,
          "metadata": {},
          "output_type": "execute_result"
        },
        {
          "data": {
            "image/png": "[encoded data removed]",
            "text/plain": [
              "<Figure size 432x288 with 1 Axes>"
            ]
          },
          "metadata": {
            "needs_background": "light"
          },
          "output_type": "display_data"
        }
      ],
      "source": [
        "plt.scatter(x_val,y_val) # val data"
      ]
    },
    {
      "cell_type": "markdown",
      "metadata": {
        "id": "N58aUtjqRALS"
      },
      "source": [
        "## Gradient Descent"
      ]
    },
    {
      "cell_type": "code",
      "execution_count": 9,
      "metadata": {
        "colab": {
          "base_uri": "https://localhost:8080/"
        },
        "id": "j9Zw9740Q8X0",
        "outputId": "681afcc8-778f-4554-930c-934bf691b9bf"
      },
      "outputs": [
        {
          "name": "stdout",
          "output_type": "stream",
          "text": [
            "[0.49671415] [-0.1382643]\n"
          ]
        }
      ],
      "source": [
        "# Step 0 - Random initialization of weights\n",
        "\n",
        "np.random.seed(42)\n",
        "b = np.random.randn(1)\n",
        "w = np.random.randn(1)\n",
        "\n",
        "print(b, w)"
      ]
    },
    {
      "cell_type": "code",
      "execution_count": 14,
      "metadata": {
        "id": "vVc1QKwFRUxI"
      },
      "outputs": [],
      "source": [
        "yhat = w*x_train + b"
      ]
    },
    {
      "cell_type": "code",
      "execution_count": 15,
      "metadata": {
        "colab": {
          "base_uri": "https://localhost:8080/"
        },
        "id": "hr352YUsSXDL",
        "outputId": "6ac6838e-bc2d-49dd-e5c8-51e1b057b9ba"
      },
      "outputs": [
        {
          "name": "stdout",
          "output_type": "stream",
          "text": [
            "2.7421577700550976\n"
          ]
        }
      ],
      "source": [
        "error = (yhat - y_train)\n",
        "\n",
        "# It is a regression, so it computes mean squared error (MSE)\n",
        "loss = (error ** 2).mean()\n",
        "\n",
        "print(loss)"
      ]
    },
    {
      "cell_type": "markdown",
      "metadata": {
        "id": "9E0kZ0IhS2wq"
      },
      "source": [
        "Computing gradient"
      ]
    },
    {
      "cell_type": "code",
      "execution_count": 16,
      "metadata": {
        "colab": {
          "base_uri": "https://localhost:8080/"
        },
        "id": "55SErFlYSpKP",
        "outputId": "47cf487d-ae8e-4787-a2bc-a81ba6126be8"
      },
      "outputs": [
        {
          "name": "stdout",
          "output_type": "stream",
          "text": [
            "-3.044811379650508 -1.8337537171510832\n"
          ]
        }
      ],
      "source": [
        "b_grad = 2 * error.mean()\n",
        "w_grad = 2 * (x_train * error).mean()\n",
        "print(b_grad, w_grad)"
      ]
    },
    {
      "cell_type": "code",
      "execution_count": 17,
      "metadata": {
        "colab": {
          "base_uri": "https://localhost:8080/"
        },
        "id": "b81uQCOXS4y1",
        "outputId": "d6e4bc3e-bfa9-4b2d-b762-745d96753cf4"
      },
      "outputs": [
        {
          "name": "stdout",
          "output_type": "stream",
          "text": [
            "[0.49671415] [-0.1382643]\n",
            "[0.80119529] [0.04511107]\n"
          ]
        }
      ],
      "source": [
        "lr = 0.1\n",
        "print(b, w)\n",
        "\n",
        "# Step 4 - Updates parameters using gradients and\n",
        "# the learning rate\n",
        "b = b - lr * b_grad\n",
        "w = w - lr * w_grad\n",
        "\n",
        "print(b, w)"
      ]
    },
    {
      "cell_type": "code",
      "execution_count": 18,
      "metadata": {
        "colab": {
          "base_uri": "https://localhost:8080/"
        },
        "id": "8LxLkeeVS-m5",
        "outputId": "76e21b3c-5800-46e0-c14f-8dae6d48e82c"
      },
      "outputs": [
        {
          "name": "stdout",
          "output_type": "stream",
          "text": [
            "[0.49671415] [-0.1382643]\n",
            "[1.02354094] [1.96896411]\n"
          ]
        }
      ],
      "source": [
        "np.random.seed(42)\n",
        "b = np.random.randn(1)\n",
        "w = np.random.randn(1)\n",
        "\n",
        "print(b, w)\n",
        "\n",
        "# Sets learning rate - this is \"eta\" ~ the \"n\"-like Greek letter\n",
        "lr = 0.1\n",
        "# Defines number of epochs\n",
        "n_epochs = 1000\n",
        "\n",
        "for epoch in range(n_epochs):\n",
        "    # Step 1 - Computes model's predicted output - forward pass\n",
        "    yhat = b + w * x_train\n",
        "    \n",
        "    # Step 2 - Computes the loss\n",
        "    # We are using ALL data points, so this is BATCH gradient\n",
        "    # descent. How wrong is our model? That's the error!   \n",
        "    error = (yhat - y_train)\n",
        "    # It is a regression, so it computes mean squared error (MSE)\n",
        "    loss = (error ** 2).mean()\n",
        "    \n",
        "    # Step 3 - Computes gradients for both \"b\" and \"w\" parameters\n",
        "    b_grad = 2 * error.mean()\n",
        "    w_grad = 2 * (x_train * error).mean()\n",
        "    \n",
        "    # Step 4 - Updates parameters using gradients and \n",
        "    # the learning rate\n",
        "    b = b - lr * b_grad\n",
        "    w = w - lr * w_grad\n",
        "    \n",
        "print(b, w)"
      ]
    },
    {
      "cell_type": "code",
      "execution_count": 19,
      "metadata": {
        "colab": {
          "base_uri": "https://localhost:8080/"
        },
        "id": "P-_LaaGOW0sT",
        "outputId": "cc0ab874-4e44-45e5-a5f3-d68912026d12"
      },
      "outputs": [
        {
          "name": "stdout",
          "output_type": "stream",
          "text": [
            "[1.02354075] [1.96896447]\n"
          ]
        }
      ],
      "source": [
        "linr = LinearRegression()\n",
        "linr.fit(x_train, y_train)\n",
        "print(linr.intercept_, linr.coef_[0])"
      ]
    },
    {
      "cell_type": "markdown",
      "metadata": {
        "id": "NL8RPRl0ZDSn"
      },
      "source": [
        "## Pytorch basics"
      ]
    },
    {
      "cell_type": "code",
      "execution_count": 23,
      "metadata": {
        "colab": {
          "base_uri": "https://localhost:8080/"
        },
        "id": "3Zo6cVGnW8e8",
        "outputId": "7b45283f-0dc1-40a0-ab10-52cf28f0d37d"
      },
      "outputs": [
        {
          "data": {
            "text/plain": [
              "torch.float64"
            ]
          },
          "execution_count": 23,
          "metadata": {},
          "output_type": "execute_result"
        }
      ],
      "source": [
        "x_train_tensor = torch.as_tensor(x_train)\n",
        "x_train_tensor.dtype"
      ]
    },
    {
      "cell_type": "code",
      "execution_count": 24,
      "metadata": {
        "colab": {
          "base_uri": "https://localhost:8080/"
        },
        "id": "GgeII4rGZLLE",
        "outputId": "c27b4bbf-00bb-49b7-8514-496183ef133b"
      },
      "outputs": [
        {
          "data": {
            "text/plain": [
              "tensor([1, 0, 3])"
            ]
          },
          "execution_count": 24,
          "metadata": {},
          "output_type": "execute_result"
        }
      ],
      "source": [
        "dummy_array = np.array([1, 2, 3])\n",
        "dummy_tensor = torch.as_tensor(dummy_array)\n",
        "# Modifies the numpy array\n",
        "dummy_array[1] = 0\n",
        "# Tensor gets modified too...\n",
        "dummy_tensor"
      ]
    },
    {
      "cell_type": "code",
      "execution_count": 25,
      "metadata": {
        "colab": {
          "base_uri": "https://localhost:8080/",
          "height": 36
        },
        "id": "kz3xDceKbCSq",
        "outputId": "13fdd877-0300-42ea-d040-3f7c448eb641"
      },
      "outputs": [
        {
          "data": {
            "application/vnd.google.colaboratory.intrinsic+json": {
              "type": "string"
            },
            "text/plain": [
              "'cpu'"
            ]
          },
          "execution_count": 25,
          "metadata": {},
          "output_type": "execute_result"
        }
      ],
      "source": [
        "device = 'cuda' if torch.cuda.is_available() else 'cpu'\n",
        "device"
      ]
    },
    {
      "cell_type": "code",
      "execution_count": 26,
      "metadata": {
        "id": "L3HpLozgbRfe"
      },
      "outputs": [],
      "source": [
        "n_cudas = torch.cuda.device_count()\n",
        "for i in range(n_cudas):\n",
        "  print(torch.cuda.get_device_name(i))"
      ]
    },
    {
      "cell_type": "code",
      "execution_count": 28,
      "metadata": {
        "colab": {
          "base_uri": "https://localhost:8080/"
        },
        "id": "gJGryuorbeLm",
        "outputId": "79939491-78bd-4d07-c092-a82f417db47d"
      },
      "outputs": [
        {
          "data": {
            "text/plain": [
              "tensor([0.0636], dtype=torch.float64)"
            ]
          },
          "execution_count": 28,
          "metadata": {},
          "output_type": "execute_result"
        }
      ],
      "source": [
        "gpu_tensor = torch.as_tensor(x_train).to(device)\n",
        "gpu_tensor[1]"
      ]
    },
    {
      "cell_type": "markdown",
      "metadata": {
        "id": "nIavbUe4bze2"
      },
      "source": [
        "## Using Pytorch to train"
      ]
    },
    {
      "cell_type": "code",
      "execution_count": 29,
      "metadata": {
        "id": "84zY5_bfbqe0"
      },
      "outputs": [],
      "source": [
        "device = 'cuda' if torch.cuda.is_available() else 'cpu'\n",
        "\n",
        "# Our data was in Numpy arrays, but we need to transform them\n",
        "# into PyTorch's Tensors and then we send them to the\n",
        "# chosen device\n",
        "\n",
        "x_train_tensor = torch.as_tensor(x_train).float().to(device)\n",
        "y_train_tensor = torch.as_tensor(y_train).float().to(device)"
      ]
    },
    {
      "cell_type": "code",
      "execution_count": 30,
      "metadata": {
        "colab": {
          "base_uri": "https://localhost:8080/"
        },
        "id": "z8KJqSdCb6j7",
        "outputId": "cee9e306-057e-41f1-e1ed-edeb06ace841"
      },
      "outputs": [
        {
          "name": "stdout",
          "output_type": "stream",
          "text": [
            "<class 'numpy.ndarray'> <class 'torch.Tensor'> torch.FloatTensor\n"
          ]
        }
      ],
      "source": [
        "print(type(x_train), type(x_train_tensor), x_train_tensor.type())"
      ]
    },
    {
      "cell_type": "code",
      "execution_count": 31,
      "metadata": {
        "id": "2fMcter8b-kz"
      },
      "outputs": [],
      "source": [
        "#use .cpu to convert to cpu tensor as numpy can't handle gpu tensor\n",
        "back_to_numpy = x_train_tensor.cpu().numpy()\n"
      ]
    },
    {
      "cell_type": "code",
      "execution_count": 32,
      "metadata": {
        "colab": {
          "base_uri": "https://localhost:8080/"
        },
        "id": "nh3JjIFjcRig",
        "outputId": "6d80986c-7021-4134-cfdd-eb89aa116dec"
      },
      "outputs": [
        {
          "name": "stdout",
          "output_type": "stream",
          "text": [
            "tensor([0.3367], requires_grad=True) tensor([0.1288], requires_grad=True)\n"
          ]
        }
      ],
      "source": [
        "torch.manual_seed(42)\n",
        "b = torch.randn(1, requires_grad=True, \\\n",
        "dtype=torch.float, device=device)\n",
        "w = torch.randn(1, requires_grad=True, \\\n",
        "dtype=torch.float, device=device)\n",
        "print(b, w)"
      ]
    },
    {
      "cell_type": "code",
      "execution_count": 33,
      "metadata": {
        "colab": {
          "base_uri": "https://localhost:8080/",
          "height": 398
        },
        "id": "7LhvpNlqlneL",
        "outputId": "c0f0bd1a-e6c7-4902-cc11-f21e0647ca6d"
      },
      "outputs": [
        {
          "data": {
            "image/svg+xml": "<?xml version=\"1.0\" encoding=\"UTF-8\" standalone=\"no\"?>\n<!DOCTYPE svg PUBLIC \"-//W3C//DTD SVG 1.1//EN\"\n \"http://www.w3.org/Graphics/SVG/1.1/DTD/svg11.dtd\">\n<!-- Generated by graphviz version 2.40.1 (20161225.0304)\n -->\n<!-- Title: %3 Pages: 1 -->\n<svg width=\"222pt\" height=\"283pt\"\n viewBox=\"0.00 0.00 222.00 283.00\" xmlns=\"http://www.w3.org/2000/svg\" xmlns:xlink=\"http://www.w3.org/1999/xlink\">\n<g id=\"graph0\" class=\"graph\" transform=\"scale(1 1) rotate(0) translate(4 279)\">\n<title>%3</title>\n<polygon fill=\"#ffffff\" stroke=\"transparent\" points=\"-4,4 -4,-279 218,-279 218,4 -4,4\"/>\n<!-- 140497215264144 -->\n<g id=\"node1\" class=\"node\">\n<title>140497215264144</title>\n<polygon fill=\"#caff70\" stroke=\"#000000\" points=\"139,-31 74,-31 74,0 139,0 139,-31\"/>\n<text text-anchor=\"middle\" x=\"106.5\" y=\"-7\" font-family=\"monospace\" font-size=\"10.00\" fill=\"#000000\"> (80, 1)</text>\n</g>\n<!-- 140497215190416 -->\n<g id=\"node2\" class=\"node\">\n<title>140497215190416</title>\n<polygon fill=\"#d3d3d3\" stroke=\"#000000\" points=\"151,-86 62,-86 62,-67 151,-67 151,-86\"/>\n<text text-anchor=\"middle\" x=\"106.5\" y=\"-74\" font-family=\"monospace\" font-size=\"10.00\" fill=\"#000000\">AddBackward0</text>\n</g>\n<!-- 140497215190416&#45;&gt;140497215264144 -->\n<g id=\"edge6\" class=\"edge\">\n<title>140497215190416&#45;&gt;140497215264144</title>\n<path fill=\"none\" stroke=\"#000000\" d=\"M106.5,-66.9688C106.5,-60.1289 106.5,-50.5621 106.5,-41.5298\"/>\n<polygon fill=\"#000000\" stroke=\"#000000\" points=\"110.0001,-41.3678 106.5,-31.3678 103.0001,-41.3678 110.0001,-41.3678\"/>\n</g>\n<!-- 140497215190096 -->\n<g id=\"node3\" class=\"node\">\n<title>140497215190096</title>\n<polygon fill=\"#d3d3d3\" stroke=\"#000000\" points=\"101,-141 0,-141 0,-122 101,-122 101,-141\"/>\n<text text-anchor=\"middle\" x=\"50.5\" y=\"-129\" font-family=\"monospace\" font-size=\"10.00\" fill=\"#000000\">AccumulateGrad</text>\n</g>\n<!-- 140497215190096&#45;&gt;140497215190416 -->\n<g id=\"edge1\" class=\"edge\">\n<title>140497215190096&#45;&gt;140497215190416</title>\n<path fill=\"none\" stroke=\"#000000\" d=\"M60.2545,-121.9197C68.1865,-114.1293 79.5788,-102.9405 89.0712,-93.6176\"/>\n<polygon fill=\"#000000\" stroke=\"#000000\" points=\"91.7982,-95.845 96.4802,-86.3408 86.8932,-90.8509 91.7982,-95.845\"/>\n</g>\n<!-- 140497215263856 -->\n<g id=\"node4\" class=\"node\">\n<title>140497215263856</title>\n<polygon fill=\"#add8e6\" stroke=\"#000000\" points=\"77.5,-208 23.5,-208 23.5,-177 77.5,-177 77.5,-208\"/>\n<text text-anchor=\"middle\" x=\"50.5\" y=\"-184\" font-family=\"monospace\" font-size=\"10.00\" fill=\"#000000\"> (1)</text>\n</g>\n<!-- 140497215263856&#45;&gt;140497215190096 -->\n<g id=\"edge2\" class=\"edge\">\n<title>140497215263856&#45;&gt;140497215190096</title>\n<path fill=\"none\" stroke=\"#000000\" d=\"M50.5,-176.791C50.5,-169.0249 50.5,-159.5706 50.5,-151.3129\"/>\n<polygon fill=\"#000000\" stroke=\"#000000\" points=\"54.0001,-151.0647 50.5,-141.0648 47.0001,-151.0648 54.0001,-151.0647\"/>\n</g>\n<!-- 140497215190800 -->\n<g id=\"node5\" class=\"node\">\n<title>140497215190800</title>\n<polygon fill=\"#d3d3d3\" stroke=\"#000000\" points=\"208,-141 119,-141 119,-122 208,-122 208,-141\"/>\n<text text-anchor=\"middle\" x=\"163.5\" y=\"-129\" font-family=\"monospace\" font-size=\"10.00\" fill=\"#000000\">MulBackward0</text>\n</g>\n<!-- 140497215190800&#45;&gt;140497215190416 -->\n<g id=\"edge3\" class=\"edge\">\n<title>140497215190800&#45;&gt;140497215190416</title>\n<path fill=\"none\" stroke=\"#000000\" d=\"M153.5714,-121.9197C145.4169,-114.0514 133.6697,-102.7164 123.9508,-93.3385\"/>\n<polygon fill=\"#000000\" stroke=\"#000000\" points=\"126.3252,-90.7659 116.6987,-86.3408 121.4646,-95.8032 126.3252,-90.7659\"/>\n</g>\n<!-- 140497215192272 -->\n<g id=\"node6\" class=\"node\">\n<title>140497215192272</title>\n<polygon fill=\"#d3d3d3\" stroke=\"#000000\" points=\"214,-202 113,-202 113,-183 214,-183 214,-202\"/>\n<text text-anchor=\"middle\" x=\"163.5\" y=\"-190\" font-family=\"monospace\" font-size=\"10.00\" fill=\"#000000\">AccumulateGrad</text>\n</g>\n<!-- 140497215192272&#45;&gt;140497215190800 -->\n<g id=\"edge4\" class=\"edge\">\n<title>140497215192272&#45;&gt;140497215190800</title>\n<path fill=\"none\" stroke=\"#000000\" d=\"M163.5,-182.9688C163.5,-174.5131 163.5,-161.8901 163.5,-151.2615\"/>\n<polygon fill=\"#000000\" stroke=\"#000000\" points=\"167.0001,-151.1656 163.5,-141.1656 160.0001,-151.1657 167.0001,-151.1656\"/>\n</g>\n<!-- 140497215265008 -->\n<g id=\"node7\" class=\"node\">\n<title>140497215265008</title>\n<polygon fill=\"#add8e6\" stroke=\"#000000\" points=\"190.5,-275 136.5,-275 136.5,-244 190.5,-244 190.5,-275\"/>\n<text text-anchor=\"middle\" x=\"163.5\" y=\"-251\" font-family=\"monospace\" font-size=\"10.00\" fill=\"#000000\"> (1)</text>\n</g>\n<!-- 140497215265008&#45;&gt;140497215192272 -->\n<g id=\"edge5\" class=\"edge\">\n<title>140497215265008&#45;&gt;140497215192272</title>\n<path fill=\"none\" stroke=\"#000000\" d=\"M163.5,-243.9604C163.5,-234.6356 163.5,-222.6748 163.5,-212.6317\"/>\n<polygon fill=\"#000000\" stroke=\"#000000\" points=\"167.0001,-212.35 163.5,-202.3501 160.0001,-212.3501 167.0001,-212.35\"/>\n</g>\n</g>\n</svg>\n",
            "text/plain": [
              "<graphviz.dot.Digraph at 0x7fc80e9a7310>"
            ]
          },
          "execution_count": 33,
          "metadata": {},
          "output_type": "execute_result"
        }
      ],
      "source": [
        "torch.manual_seed(42)\n",
        "b = torch.randn(1, requires_grad=True, \\\n",
        "dtype=torch.float, device=device)\n",
        "w = torch.randn(1, requires_grad=True, \\\n",
        "dtype=torch.float, device=device)\n",
        "# Step 1 - Computes our model's predicted output - forward pass\n",
        "yhat = b + w * x_train_tensor\n",
        "# Step 2 - Computes the loss\n",
        "error = (yhat - y_train_tensor)\n",
        "loss = (error ** 2).mean()\n",
        "# We can try plotting the graph for any python variable:\n",
        "# yhat, error, loss...\n",
        "make_dot(yhat)\n"
      ]
    },
    {
      "cell_type": "code",
      "execution_count": null,
      "metadata": {
        "id": "rEPsXi92oLlx"
      },
      "outputs": [],
      "source": []
    },
    {
      "cell_type": "markdown",
      "metadata": {
        "id": "lfc2lzB6pHnf"
      },
      "source": [
        "Using optim and loss fn"
      ]
    },
    {
      "cell_type": "code",
      "execution_count": 35,
      "metadata": {
        "colab": {
          "base_uri": "https://localhost:8080/"
        },
        "id": "4iMAjsFepJ8J",
        "outputId": "bcb1097c-95cb-481c-9179-1ea547c9b9ba"
      },
      "outputs": [
        {
          "name": "stdout",
          "output_type": "stream",
          "text": [
            "tensor([1.1566], requires_grad=True) tensor([1.7086], requires_grad=True)\n"
          ]
        }
      ],
      "source": [
        "lr = 0.01\n",
        "\n",
        "torch.manual_seed(42)\n",
        "\n",
        "b = torch.randn(1,requires_grad=True,dtype = torch.float,device = device)\n",
        "w = torch.randn(1,requires_grad=True,dtype = torch.float,device = device)\n",
        "\n",
        "optimizer = optim.SGD([b,w],lr = lr)\n",
        "\n",
        "loss_fn = nn.MSELoss(reduction = 'mean')\n",
        "n_epochs = 1000\n",
        "\n",
        "for epoch in range(n_epochs):\n",
        "  yhat = w*x_train_tensor + b\n",
        "\n",
        "  loss = loss_fn(yhat,y_train_tensor)\n",
        "\n",
        "  loss.backward()\n",
        "\n",
        "  optimizer.step()\n",
        "  optimizer.zero_grad()\n",
        "\n",
        "print(b,w)"
      ]
    },
    {
      "cell_type": "code",
      "execution_count": 36,
      "metadata": {
        "colab": {
          "base_uri": "https://localhost:8080/"
        },
        "id": "RBEbhjmzqLR3",
        "outputId": "5fcfe7da-ed8e-47b1-cbcc-f98d85f66537"
      },
      "outputs": [
        {
          "data": {
            "text/plain": [
              "tensor(0.0145, grad_fn=<MseLossBackward0>)"
            ]
          },
          "execution_count": 36,
          "metadata": {},
          "output_type": "execute_result"
        }
      ],
      "source": [
        "loss"
      ]
    },
    {
      "cell_type": "code",
      "execution_count": 40,
      "metadata": {
        "colab": {
          "base_uri": "https://localhost:8080/"
        },
        "id": "y1CwwsKtqYAy",
        "outputId": "378e95bf-7900-49cf-e0b5-32fa4cc5956c"
      },
      "outputs": [
        {
          "name": "stdout",
          "output_type": "stream",
          "text": [
            "1.1565992832183838 1 1.7086076736450195 2\n"
          ]
        }
      ],
      "source": [
        "print(b.item(),true_b,w.item(),true_w)"
      ]
    },
    {
      "cell_type": "code",
      "execution_count": 39,
      "metadata": {
        "colab": {
          "base_uri": "https://localhost:8080/"
        },
        "id": "jFP2E3nfqckV",
        "outputId": "5024a220-b4ee-40fa-b604-7383cae082e2"
      },
      "outputs": [
        {
          "data": {
            "text/plain": [
              "(0.014521735720336437, 0.014521735720336437)"
            ]
          },
          "execution_count": 39,
          "metadata": {},
          "output_type": "execute_result"
        }
      ],
      "source": [
        "loss.item(),loss.tolist()"
      ]
    },
    {
      "cell_type": "markdown",
      "metadata": {
        "id": "azb-_U_FqzAd"
      },
      "source": [
        "Building a model"
      ]
    },
    {
      "cell_type": "code",
      "execution_count": 43,
      "metadata": {
        "id": "f5zr33MAqf36"
      },
      "outputs": [],
      "source": [
        "class ManualLinearRegression(nn.Module):\n",
        "  def __init__(self):\n",
        "    super().__init__()\n",
        "\n",
        "    # self.b = nn.Parameter(torch.randn(1,requires_grad=True,dtype=torch.float))\n",
        "    # self.w = nn.Parameter(torch.randn(1,requires_grad=True,dtype=torch.float))\n",
        "    self.linear = nn.Linear(1, 1)\n",
        "\n",
        "  \n",
        "  def forward(self,x):\n",
        "    return self.b + self.w * x\n",
        "  \n"
      ]
    },
    {
      "cell_type": "code",
      "execution_count": 44,
      "metadata": {
        "colab": {
          "base_uri": "https://localhost:8080/"
        },
        "id": "HNVBX2ECrwi8",
        "outputId": "c265853c-ed2b-44ca-c94d-224df932aefc"
      },
      "outputs": [
        {
          "name": "stdout",
          "output_type": "stream",
          "text": [
            "OrderedDict([('b', tensor([1.0235])), ('w', tensor([1.9690]))])\n"
          ]
        }
      ],
      "source": [
        "lr = 0.1\n",
        "\n",
        "# Step 0 - Initializes parameters \"b\" and \"w\" randomly\n",
        "torch.manual_seed(42)\n",
        "# Now we can create a model and send it at once to the device\n",
        "model = ManualLinearRegression().to(device)\n",
        "\n",
        "# Defines a SGD optimizer to update the parameters \n",
        "# (now retrieved directly from the model)\n",
        "optimizer = optim.SGD(model.parameters(), lr=lr)\n",
        "\n",
        "# Defines a MSE loss function\n",
        "loss_fn = nn.MSELoss(reduction='mean')\n",
        "\n",
        "# Defines number of epochs\n",
        "n_epochs = 1000\n",
        "\n",
        "for epoch in range(n_epochs):\n",
        "    model.train() # What is this?!?\n",
        "\n",
        "    # Step 1 - Computes model's predicted output - forward pass\n",
        "    # No more manual prediction!\n",
        "    yhat = model(x_train_tensor)\n",
        "    \n",
        "    # Step 2 - Computes the loss\n",
        "    loss = loss_fn(yhat, y_train_tensor)\n",
        "\n",
        "    # Step 3 - Computes gradients for both \"b\" and \"w\" parameters\n",
        "    loss.backward()\n",
        "    \n",
        "    # Step 4 - Updates parameters using gradients and\n",
        "    # the learning rate\n",
        "    optimizer.step()\n",
        "    optimizer.zero_grad()\n",
        "    \n",
        "# We can also inspect its parameters using its state_dict\n",
        "print(model.state_dict())"
      ]
    },
    {
      "cell_type": "code",
      "execution_count": null,
      "metadata": {
        "id": "GVOfFV9Ir2RP"
      },
      "outputs": [],
      "source": [
        "class ManualLinearRegression(nn.Module):\n",
        "  def __init__(self):\n",
        "    super().__init__()\n",
        "\n",
        "    # self.b = nn.Parameter(torch.randn(1,requires_grad=True,dtype=torch.float))\n",
        "    # self.w = nn.Parameter(torch.randn(1,requires_grad=True,dtype=torch.float))\n",
        "    self.linear = nn.Linear(1, 1)\n",
        "\n",
        "  \n",
        "  def forward(self,x):\n",
        "    # return self.b + self.w * x\n",
        "    return self.linear(x)\n",
        "  \n"
      ]
    },
    {
      "cell_type": "code",
      "execution_count": 45,
      "metadata": {
        "colab": {
          "base_uri": "https://localhost:8080/"
        },
        "id": "eKN5W0_p4XMk",
        "outputId": "50f5815d-e33c-4a70-e8fb-d6606060013f"
      },
      "outputs": [
        {
          "data": {
            "text/plain": [
              "Sequential(\n",
              "  (layer1): Linear(in_features=3, out_features=5, bias=True)\n",
              "  (layer2): Linear(in_features=5, out_features=1, bias=True)\n",
              ")"
            ]
          },
          "execution_count": 45,
          "metadata": {},
          "output_type": "execute_result"
        }
      ],
      "source": [
        "torch.manual_seed(42)\n",
        "# Building the model from the figure above\n",
        "model = nn.Sequential()\n",
        "model.add_module('layer1', nn.Linear(3, 5))\n",
        "model.add_module('layer2', nn.Linear(5, 1))\n",
        "model.to(device)"
      ]
    },
    {
      "cell_type": "markdown",
      "metadata": {
        "id": "svoBs3pu5rZT"
      },
      "source": [
        "## Template codes"
      ]
    },
    {
      "cell_type": "code",
      "execution_count": 1,
      "metadata": {
        "colab": {
          "base_uri": "https://localhost:8080/",
          "height": 378
        },
        "id": "3gqKQcaG4Xkv",
        "outputId": "9630d128-1c8b-4c9b-a124-339e16069fc8"
      },
      "outputs": [
        {
          "name": "stdout",
          "output_type": "stream",
          "text": [
            "Writing data_preparation/v0.py\n"
          ]
        }
      ],
      "source": [
        "%%writefile data_preparation/v0.py\n",
        "\n",
        "device = 'cuda' if torch.cuda.is_available() else 'cpu'\n",
        "# Our data was in Numpy arrays, but we need to transform them\n",
        "# into PyTorch's Tensors and then we send them to the\n",
        "# chosen device\n",
        "x_train_tensor = torch.as_tensor(x_train).float().to(device)\n",
        "y_train_tensor = torch.as_tensor(y_train).float().to(device)\n"
      ]
    },
    {
      "cell_type": "code",
      "execution_count": 3,
      "metadata": {
        "id": "en5MmmyK7Hrg"
      },
      "outputs": [
        {
          "name": "stdout",
          "output_type": "stream",
          "text": [
            "Writing model_configuration/v0.py\n"
          ]
        }
      ],
      "source": [
        "%%writefile model_configuration/v0.py\n",
        "\n",
        "# This is redundant now, but it won't be when we introduce\n",
        "# Datasets...\n",
        "device = 'cuda' if torch.cuda.is_available() else 'cpu'\n",
        "\n",
        "# Sets learning rate - this is \"eta\" ~ the \"n\"-like Greek letter\n",
        "lr = 0.1\n",
        "\n",
        "torch.manual_seed(42)\n",
        "# Now we can create a model and send it at once to the device\n",
        "model = nn.Sequential(nn.Linear(1, 1)).to(device)\n",
        "\n",
        "# Defines a SGD optimizer to update the parameters \n",
        "# (now retrieved directly from the model)\n",
        "optimizer = optim.SGD(model.parameters(), lr=lr)\n",
        "\n",
        "# Defines a MSE loss function\n",
        "loss_fn = nn.MSELoss(reduction='mean')"
      ]
    },
    {
      "cell_type": "code",
      "execution_count": 4,
      "metadata": {
        "id": "zbhg6YUo7UE-"
      },
      "outputs": [
        {
          "name": "stdout",
          "output_type": "stream",
          "text": [
            "Writing model_training/v0.py\n"
          ]
        }
      ],
      "source": [
        "%%writefile model_training/v0.py\n",
        "\n",
        "# Defines number of epochs\n",
        "n_epochs = 1000\n",
        "\n",
        "for epoch in range(n_epochs):\n",
        "    # Sets model to TRAIN mode\n",
        "    model.train()\n",
        "\n",
        "    # Step 1 - Computes model's predicted output - forward pass\n",
        "    yhat = model(x_train_tensor)\n",
        "    \n",
        "    # Step 2 - Computes the loss\n",
        "    loss = loss_fn(yhat, y_train_tensor)\n",
        "\n",
        "    # Step 3 - Computes gradients for both \"b\" and \"w\" parameters\n",
        "    loss.backward()\n",
        "    \n",
        "    # Step 4 - Updates parameters using gradients and \n",
        "    # the learning rate\n",
        "    optimizer.step()\n",
        "    optimizer.zero_grad()"
      ]
    }
  ],
  "metadata": {
    "colab": {
      "include_colab_link": true,
      "name": "Chap_01.ipynb",
      "provenance": []
    },
    "gpuClass": "standard",
    "kernelspec": {
      "display_name": "Python 3.8.13 64-bit ('3.8.13')",
      "language": "python",
      "name": "python3"
    },
    "language_info": {
      "codemirror_mode": {
        "name": "ipython",
        "version": 3
      },
      "file_extension": ".py",
      "mimetype": "text/x-python",
      "name": "python",
      "nbconvert_exporter": "python",
      "pygments_lexer": "ipython3",
      "version": "3.8.13"
    },
    "orig_nbformat": 4,
    "vscode": {
      "interpreter": {
        "hash": "110cc1dee26208153f2972f08a2ad52b6a56238dc66d48e87fb757ef2996db56"
      }
    }
  },
  "nbformat": 4,
  "nbformat_minor": 0
}
