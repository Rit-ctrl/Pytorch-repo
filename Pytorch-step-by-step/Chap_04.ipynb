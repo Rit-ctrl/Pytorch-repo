{
 "cells": [
  {
   "cell_type": "markdown",
   "metadata": {},
   "source": [
    "### Imports"
   ]
  },
  {
   "cell_type": "code",
   "execution_count": 1,
   "metadata": {},
   "outputs": [
    {
     "name": "stdout",
     "output_type": "stream",
     "text": [
      "Requirement already satisfied: numpy in /Users/rithickumar/miniforge3/envs/torch-nightly/lib/python3.10/site-packages (from -r requirements.txt (line 1)) (1.22.4)\n",
      "Requirement already satisfied: matplotlib in /Users/rithickumar/miniforge3/envs/torch-nightly/lib/python3.10/site-packages (from -r requirements.txt (line 2)) (3.5.1)\n",
      "Requirement already satisfied: scikit-learn in /Users/rithickumar/miniforge3/envs/torch-nightly/lib/python3.10/site-packages (from -r requirements.txt (line 4)) (1.1.1)\n",
      "Requirement already satisfied: torch in /Users/rithickumar/miniforge3/envs/torch-nightly/lib/python3.10/site-packages (from -r requirements.txt (line 5)) (1.12.0)\n",
      "Requirement already satisfied: torchvision in /Users/rithickumar/miniforge3/envs/torch-nightly/lib/python3.10/site-packages (from -r requirements.txt (line 6)) (0.13.0)\n",
      "Requirement already satisfied: torchtext in /Users/rithickumar/miniforge3/envs/torch-nightly/lib/python3.10/site-packages (from -r requirements.txt (line 7)) (0.13.0)\n",
      "Requirement already satisfied: torchviz in /Users/rithickumar/miniforge3/envs/torch-nightly/lib/python3.10/site-packages (from -r requirements.txt (line 8)) (0.0.2)\n",
      "Requirement already satisfied: tensorboard in /Users/rithickumar/miniforge3/envs/torch-nightly/lib/python3.10/site-packages (from -r requirements.txt (line 9)) (2.9.1)\n",
      "Requirement already satisfied: opencv-python in /Users/rithickumar/miniforge3/envs/torch-nightly/lib/python3.10/site-packages (from -r requirements.txt (line 10)) (4.6.0.66)\n",
      "Requirement already satisfied: librosa in /Users/rithickumar/miniforge3/envs/torch-nightly/lib/python3.10/site-packages (from -r requirements.txt (line 11)) (0.9.2)\n",
      "Requirement already satisfied: jupyter in /Users/rithickumar/miniforge3/envs/torch-nightly/lib/python3.10/site-packages (from -r requirements.txt (line 12)) (1.0.0)\n",
      "Requirement already satisfied: fonttools>=4.22.0 in /Users/rithickumar/miniforge3/envs/torch-nightly/lib/python3.10/site-packages (from matplotlib->-r requirements.txt (line 2)) (4.25.0)\n",
      "Requirement already satisfied: pillow>=6.2.0 in /Users/rithickumar/miniforge3/envs/torch-nightly/lib/python3.10/site-packages (from matplotlib->-r requirements.txt (line 2)) (9.2.0)\n",
      "Requirement already satisfied: cycler>=0.10 in /Users/rithickumar/miniforge3/envs/torch-nightly/lib/python3.10/site-packages (from matplotlib->-r requirements.txt (line 2)) (0.11.0)\n",
      "Requirement already satisfied: pyparsing>=2.2.1 in /Users/rithickumar/miniforge3/envs/torch-nightly/lib/python3.10/site-packages (from matplotlib->-r requirements.txt (line 2)) (3.0.4)\n",
      "Requirement already satisfied: python-dateutil>=2.7 in /Users/rithickumar/miniforge3/envs/torch-nightly/lib/python3.10/site-packages (from matplotlib->-r requirements.txt (line 2)) (2.8.2)\n",
      "Requirement already satisfied: kiwisolver>=1.0.1 in /Users/rithickumar/miniforge3/envs/torch-nightly/lib/python3.10/site-packages (from matplotlib->-r requirements.txt (line 2)) (1.4.2)\n",
      "Requirement already satisfied: packaging>=20.0 in /Users/rithickumar/miniforge3/envs/torch-nightly/lib/python3.10/site-packages (from matplotlib->-r requirements.txt (line 2)) (21.3)\n",
      "Requirement already satisfied: joblib>=1.0.0 in /Users/rithickumar/miniforge3/envs/torch-nightly/lib/python3.10/site-packages (from scikit-learn->-r requirements.txt (line 4)) (1.1.0)\n",
      "Requirement already satisfied: threadpoolctl>=2.0.0 in /Users/rithickumar/miniforge3/envs/torch-nightly/lib/python3.10/site-packages (from scikit-learn->-r requirements.txt (line 4)) (2.2.0)\n",
      "Requirement already satisfied: scipy>=1.3.2 in /Users/rithickumar/miniforge3/envs/torch-nightly/lib/python3.10/site-packages (from scikit-learn->-r requirements.txt (line 4)) (1.7.3)\n",
      "Requirement already satisfied: typing-extensions in /Users/rithickumar/miniforge3/envs/torch-nightly/lib/python3.10/site-packages (from torch->-r requirements.txt (line 5)) (4.3.0)\n",
      "Requirement already satisfied: requests in /Users/rithickumar/miniforge3/envs/torch-nightly/lib/python3.10/site-packages (from torchvision->-r requirements.txt (line 6)) (2.28.1)\n",
      "Requirement already satisfied: tqdm in /Users/rithickumar/miniforge3/envs/torch-nightly/lib/python3.10/site-packages (from torchtext->-r requirements.txt (line 7)) (4.64.0)\n",
      "Requirement already satisfied: graphviz in /Users/rithickumar/miniforge3/envs/torch-nightly/lib/python3.10/site-packages (from torchviz->-r requirements.txt (line 8)) (0.20.1)\n",
      "Requirement already satisfied: werkzeug>=1.0.1 in /Users/rithickumar/miniforge3/envs/torch-nightly/lib/python3.10/site-packages (from tensorboard->-r requirements.txt (line 9)) (2.2.1)\n",
      "Requirement already satisfied: wheel>=0.26 in /Users/rithickumar/miniforge3/envs/torch-nightly/lib/python3.10/site-packages (from tensorboard->-r requirements.txt (line 9)) (0.37.1)\n",
      "Requirement already satisfied: tensorboard-plugin-wit>=1.6.0 in /Users/rithickumar/miniforge3/envs/torch-nightly/lib/python3.10/site-packages (from tensorboard->-r requirements.txt (line 9)) (1.8.1)\n",
      "Requirement already satisfied: google-auth-oauthlib<0.5,>=0.4.1 in /Users/rithickumar/miniforge3/envs/torch-nightly/lib/python3.10/site-packages (from tensorboard->-r requirements.txt (line 9)) (0.4.6)\n",
      "Requirement already satisfied: setuptools>=41.0.0 in /Users/rithickumar/miniforge3/envs/torch-nightly/lib/python3.10/site-packages (from tensorboard->-r requirements.txt (line 9)) (61.2.0)\n",
      "Requirement already satisfied: tensorboard-data-server<0.7.0,>=0.6.0 in /Users/rithickumar/miniforge3/envs/torch-nightly/lib/python3.10/site-packages (from tensorboard->-r requirements.txt (line 9)) (0.6.1)\n",
      "Requirement already satisfied: absl-py>=0.4 in /Users/rithickumar/miniforge3/envs/torch-nightly/lib/python3.10/site-packages (from tensorboard->-r requirements.txt (line 9)) (1.2.0)\n",
      "Requirement already satisfied: grpcio>=1.24.3 in /Users/rithickumar/miniforge3/envs/torch-nightly/lib/python3.10/site-packages (from tensorboard->-r requirements.txt (line 9)) (1.48.0)\n",
      "Requirement already satisfied: markdown>=2.6.8 in /Users/rithickumar/miniforge3/envs/torch-nightly/lib/python3.10/site-packages (from tensorboard->-r requirements.txt (line 9)) (3.4.1)\n",
      "Requirement already satisfied: protobuf<3.20,>=3.9.2 in /Users/rithickumar/miniforge3/envs/torch-nightly/lib/python3.10/site-packages (from tensorboard->-r requirements.txt (line 9)) (3.19.4)\n",
      "Requirement already satisfied: google-auth<3,>=1.6.3 in /Users/rithickumar/miniforge3/envs/torch-nightly/lib/python3.10/site-packages (from tensorboard->-r requirements.txt (line 9)) (2.9.1)\n",
      "Requirement already satisfied: resampy>=0.2.2 in /Users/rithickumar/miniforge3/envs/torch-nightly/lib/python3.10/site-packages (from librosa->-r requirements.txt (line 11)) (0.3.1)\n",
      "Requirement already satisfied: audioread>=2.1.9 in /Users/rithickumar/miniforge3/envs/torch-nightly/lib/python3.10/site-packages (from librosa->-r requirements.txt (line 11)) (2.1.9)\n",
      "Requirement already satisfied: decorator>=4.0.10 in /Users/rithickumar/miniforge3/envs/torch-nightly/lib/python3.10/site-packages (from librosa->-r requirements.txt (line 11)) (5.1.1)\n",
      "Requirement already satisfied: pooch>=1.0 in /Users/rithickumar/miniforge3/envs/torch-nightly/lib/python3.10/site-packages (from librosa->-r requirements.txt (line 11)) (1.6.0)\n",
      "Requirement already satisfied: numba>=0.45.1 in /Users/rithickumar/miniforge3/envs/torch-nightly/lib/python3.10/site-packages (from librosa->-r requirements.txt (line 11)) (0.56.0)\n",
      "Requirement already satisfied: soundfile>=0.10.2 in /Users/rithickumar/miniforge3/envs/torch-nightly/lib/python3.10/site-packages (from librosa->-r requirements.txt (line 11)) (0.10.3.post1)\n",
      "Requirement already satisfied: notebook in /Users/rithickumar/miniforge3/envs/torch-nightly/lib/python3.10/site-packages (from jupyter->-r requirements.txt (line 12)) (6.4.11)\n",
      "Requirement already satisfied: nbconvert in /Users/rithickumar/miniforge3/envs/torch-nightly/lib/python3.10/site-packages (from jupyter->-r requirements.txt (line 12)) (6.4.4)\n",
      "Requirement already satisfied: jupyter-console in /Users/rithickumar/miniforge3/envs/torch-nightly/lib/python3.10/site-packages (from jupyter->-r requirements.txt (line 12)) (6.4.3)\n",
      "Requirement already satisfied: ipykernel in /Users/rithickumar/miniforge3/envs/torch-nightly/lib/python3.10/site-packages (from jupyter->-r requirements.txt (line 12)) (6.9.1)\n",
      "Requirement already satisfied: ipywidgets in /Users/rithickumar/miniforge3/envs/torch-nightly/lib/python3.10/site-packages (from jupyter->-r requirements.txt (line 12)) (7.6.5)\n",
      "Requirement already satisfied: qtconsole in /Users/rithickumar/miniforge3/envs/torch-nightly/lib/python3.10/site-packages (from jupyter->-r requirements.txt (line 12)) (5.3.1)\n",
      "Requirement already satisfied: six>=1.9.0 in /Users/rithickumar/miniforge3/envs/torch-nightly/lib/python3.10/site-packages (from google-auth<3,>=1.6.3->tensorboard->-r requirements.txt (line 9)) (1.16.0)\n",
      "Requirement already satisfied: cachetools<6.0,>=2.0.0 in /Users/rithickumar/miniforge3/envs/torch-nightly/lib/python3.10/site-packages (from google-auth<3,>=1.6.3->tensorboard->-r requirements.txt (line 9)) (5.2.0)\n",
      "Requirement already satisfied: pyasn1-modules>=0.2.1 in /Users/rithickumar/miniforge3/envs/torch-nightly/lib/python3.10/site-packages (from google-auth<3,>=1.6.3->tensorboard->-r requirements.txt (line 9)) (0.2.8)\n",
      "Requirement already satisfied: rsa<5,>=3.1.4 in /Users/rithickumar/miniforge3/envs/torch-nightly/lib/python3.10/site-packages (from google-auth<3,>=1.6.3->tensorboard->-r requirements.txt (line 9)) (4.9)\n",
      "Requirement already satisfied: requests-oauthlib>=0.7.0 in /Users/rithickumar/miniforge3/envs/torch-nightly/lib/python3.10/site-packages (from google-auth-oauthlib<0.5,>=0.4.1->tensorboard->-r requirements.txt (line 9)) (1.3.1)\n",
      "Requirement already satisfied: llvmlite<0.40,>=0.39.0dev0 in /Users/rithickumar/miniforge3/envs/torch-nightly/lib/python3.10/site-packages (from numba>=0.45.1->librosa->-r requirements.txt (line 11)) (0.39.0)\n",
      "Requirement already satisfied: appdirs>=1.3.0 in /Users/rithickumar/miniforge3/envs/torch-nightly/lib/python3.10/site-packages (from pooch>=1.0->librosa->-r requirements.txt (line 11)) (1.4.4)\n",
      "Requirement already satisfied: charset-normalizer<3,>=2 in /Users/rithickumar/miniforge3/envs/torch-nightly/lib/python3.10/site-packages (from requests->torchvision->-r requirements.txt (line 6)) (2.1.0)\n",
      "Requirement already satisfied: urllib3<1.27,>=1.21.1 in /Users/rithickumar/miniforge3/envs/torch-nightly/lib/python3.10/site-packages (from requests->torchvision->-r requirements.txt (line 6)) (1.26.11)\n",
      "Requirement already satisfied: certifi>=2017.4.17 in /Users/rithickumar/miniforge3/envs/torch-nightly/lib/python3.10/site-packages (from requests->torchvision->-r requirements.txt (line 6)) (2022.6.15)\n",
      "Requirement already satisfied: idna<4,>=2.5 in /Users/rithickumar/miniforge3/envs/torch-nightly/lib/python3.10/site-packages (from requests->torchvision->-r requirements.txt (line 6)) (3.3)\n",
      "Requirement already satisfied: cffi>=1.0 in /Users/rithickumar/miniforge3/envs/torch-nightly/lib/python3.10/site-packages (from soundfile>=0.10.2->librosa->-r requirements.txt (line 11)) (1.15.0)\n",
      "Requirement already satisfied: MarkupSafe>=2.1.1 in /Users/rithickumar/miniforge3/envs/torch-nightly/lib/python3.10/site-packages (from werkzeug>=1.0.1->tensorboard->-r requirements.txt (line 9)) (2.1.1)\n",
      "Requirement already satisfied: ipython>=7.23.1 in /Users/rithickumar/miniforge3/envs/torch-nightly/lib/python3.10/site-packages (from ipykernel->jupyter->-r requirements.txt (line 12)) (8.4.0)\n",
      "Requirement already satisfied: traitlets<6.0,>=5.1.0 in /Users/rithickumar/miniforge3/envs/torch-nightly/lib/python3.10/site-packages (from ipykernel->jupyter->-r requirements.txt (line 12)) (5.1.1)\n",
      "Requirement already satisfied: nest-asyncio in /Users/rithickumar/miniforge3/envs/torch-nightly/lib/python3.10/site-packages (from ipykernel->jupyter->-r requirements.txt (line 12)) (1.5.5)\n",
      "Requirement already satisfied: matplotlib-inline<0.2.0,>=0.1.0 in /Users/rithickumar/miniforge3/envs/torch-nightly/lib/python3.10/site-packages (from ipykernel->jupyter->-r requirements.txt (line 12)) (0.1.2)\n",
      "Requirement already satisfied: jupyter-client<8.0 in /Users/rithickumar/miniforge3/envs/torch-nightly/lib/python3.10/site-packages (from ipykernel->jupyter->-r requirements.txt (line 12)) (7.2.2)\n",
      "Requirement already satisfied: tornado<7.0,>=4.2 in /Users/rithickumar/miniforge3/envs/torch-nightly/lib/python3.10/site-packages (from ipykernel->jupyter->-r requirements.txt (line 12)) (6.1)\n",
      "Requirement already satisfied: debugpy<2.0,>=1.0.0 in /Users/rithickumar/miniforge3/envs/torch-nightly/lib/python3.10/site-packages (from ipykernel->jupyter->-r requirements.txt (line 12)) (1.5.1)\n",
      "Requirement already satisfied: appnope in /Users/rithickumar/miniforge3/envs/torch-nightly/lib/python3.10/site-packages (from ipykernel->jupyter->-r requirements.txt (line 12)) (0.1.2)\n",
      "Requirement already satisfied: nbformat>=4.2.0 in /Users/rithickumar/miniforge3/envs/torch-nightly/lib/python3.10/site-packages (from ipywidgets->jupyter->-r requirements.txt (line 12)) (5.3.0)\n",
      "Requirement already satisfied: jupyterlab-widgets>=1.0.0 in /Users/rithickumar/miniforge3/envs/torch-nightly/lib/python3.10/site-packages (from ipywidgets->jupyter->-r requirements.txt (line 12)) (1.0.0)\n",
      "Requirement already satisfied: widgetsnbextension~=3.5.0 in /Users/rithickumar/miniforge3/envs/torch-nightly/lib/python3.10/site-packages (from ipywidgets->jupyter->-r requirements.txt (line 12)) (3.5.2)\n",
      "Requirement already satisfied: ipython-genutils~=0.2.0 in /Users/rithickumar/miniforge3/envs/torch-nightly/lib/python3.10/site-packages (from ipywidgets->jupyter->-r requirements.txt (line 12)) (0.2.0)\n",
      "Requirement already satisfied: prompt-toolkit!=3.0.0,!=3.0.1,<3.1.0,>=2.0.0 in /Users/rithickumar/miniforge3/envs/torch-nightly/lib/python3.10/site-packages (from jupyter-console->jupyter->-r requirements.txt (line 12)) (3.0.20)\n",
      "Requirement already satisfied: pygments in /Users/rithickumar/miniforge3/envs/torch-nightly/lib/python3.10/site-packages (from jupyter-console->jupyter->-r requirements.txt (line 12)) (2.11.2)\n",
      "Requirement already satisfied: defusedxml in /Users/rithickumar/miniforge3/envs/torch-nightly/lib/python3.10/site-packages (from nbconvert->jupyter->-r requirements.txt (line 12)) (0.7.1)\n",
      "Requirement already satisfied: jinja2>=2.4 in /Users/rithickumar/miniforge3/envs/torch-nightly/lib/python3.10/site-packages (from nbconvert->jupyter->-r requirements.txt (line 12)) (3.0.3)\n",
      "Requirement already satisfied: beautifulsoup4 in /Users/rithickumar/miniforge3/envs/torch-nightly/lib/python3.10/site-packages (from nbconvert->jupyter->-r requirements.txt (line 12)) (4.11.1)\n",
      "Requirement already satisfied: bleach in /Users/rithickumar/miniforge3/envs/torch-nightly/lib/python3.10/site-packages (from nbconvert->jupyter->-r requirements.txt (line 12)) (4.1.0)\n",
      "Requirement already satisfied: pandocfilters>=1.4.1 in /Users/rithickumar/miniforge3/envs/torch-nightly/lib/python3.10/site-packages (from nbconvert->jupyter->-r requirements.txt (line 12)) (1.5.0)\n",
      "Requirement already satisfied: mistune<2,>=0.8.1 in /Users/rithickumar/miniforge3/envs/torch-nightly/lib/python3.10/site-packages (from nbconvert->jupyter->-r requirements.txt (line 12)) (0.8.4)\n",
      "Requirement already satisfied: jupyterlab-pygments in /Users/rithickumar/miniforge3/envs/torch-nightly/lib/python3.10/site-packages (from nbconvert->jupyter->-r requirements.txt (line 12)) (0.1.2)\n",
      "Requirement already satisfied: entrypoints>=0.2.2 in /Users/rithickumar/miniforge3/envs/torch-nightly/lib/python3.10/site-packages (from nbconvert->jupyter->-r requirements.txt (line 12)) (0.4)\n",
      "Requirement already satisfied: nbclient<0.6.0,>=0.5.0 in /Users/rithickumar/miniforge3/envs/torch-nightly/lib/python3.10/site-packages (from nbconvert->jupyter->-r requirements.txt (line 12)) (0.5.13)\n",
      "Requirement already satisfied: jupyter-core in /Users/rithickumar/miniforge3/envs/torch-nightly/lib/python3.10/site-packages (from nbconvert->jupyter->-r requirements.txt (line 12)) (4.10.0)\n",
      "Requirement already satisfied: testpath in /Users/rithickumar/miniforge3/envs/torch-nightly/lib/python3.10/site-packages (from nbconvert->jupyter->-r requirements.txt (line 12)) (0.6.0)\n",
      "Requirement already satisfied: prometheus-client in /Users/rithickumar/miniforge3/envs/torch-nightly/lib/python3.10/site-packages (from notebook->jupyter->-r requirements.txt (line 12)) (0.13.1)\n",
      "Requirement already satisfied: pyzmq>=17 in /Users/rithickumar/miniforge3/envs/torch-nightly/lib/python3.10/site-packages (from notebook->jupyter->-r requirements.txt (line 12)) (23.2.0)\n",
      "Requirement already satisfied: argon2-cffi in /Users/rithickumar/miniforge3/envs/torch-nightly/lib/python3.10/site-packages (from notebook->jupyter->-r requirements.txt (line 12)) (21.3.0)\n",
      "Requirement already satisfied: Send2Trash>=1.8.0 in /Users/rithickumar/miniforge3/envs/torch-nightly/lib/python3.10/site-packages (from notebook->jupyter->-r requirements.txt (line 12)) (1.8.0)\n",
      "Requirement already satisfied: terminado>=0.8.3 in /Users/rithickumar/miniforge3/envs/torch-nightly/lib/python3.10/site-packages (from notebook->jupyter->-r requirements.txt (line 12)) (0.13.1)\n",
      "Requirement already satisfied: qtpy>=2.0.1 in /Users/rithickumar/miniforge3/envs/torch-nightly/lib/python3.10/site-packages (from qtconsole->jupyter->-r requirements.txt (line 12)) (2.1.0)\n",
      "Requirement already satisfied: pycparser in /Users/rithickumar/miniforge3/envs/torch-nightly/lib/python3.10/site-packages (from cffi>=1.0->soundfile>=0.10.2->librosa->-r requirements.txt (line 11)) (2.21)\n",
      "Requirement already satisfied: jedi>=0.16 in /Users/rithickumar/miniforge3/envs/torch-nightly/lib/python3.10/site-packages (from ipython>=7.23.1->ipykernel->jupyter->-r requirements.txt (line 12)) (0.18.1)\n",
      "Requirement already satisfied: pickleshare in /Users/rithickumar/miniforge3/envs/torch-nightly/lib/python3.10/site-packages (from ipython>=7.23.1->ipykernel->jupyter->-r requirements.txt (line 12)) (0.7.5)\n",
      "Requirement already satisfied: stack-data in /Users/rithickumar/miniforge3/envs/torch-nightly/lib/python3.10/site-packages (from ipython>=7.23.1->ipykernel->jupyter->-r requirements.txt (line 12)) (0.2.0)\n",
      "Requirement already satisfied: backcall in /Users/rithickumar/miniforge3/envs/torch-nightly/lib/python3.10/site-packages (from ipython>=7.23.1->ipykernel->jupyter->-r requirements.txt (line 12)) (0.2.0)\n",
      "Requirement already satisfied: pexpect>4.3 in /Users/rithickumar/miniforge3/envs/torch-nightly/lib/python3.10/site-packages (from ipython>=7.23.1->ipykernel->jupyter->-r requirements.txt (line 12)) (4.8.0)\n",
      "Requirement already satisfied: fastjsonschema in /Users/rithickumar/miniforge3/envs/torch-nightly/lib/python3.10/site-packages (from nbformat>=4.2.0->ipywidgets->jupyter->-r requirements.txt (line 12)) (2.15.1)\n",
      "Requirement already satisfied: jsonschema>=2.6 in /Users/rithickumar/miniforge3/envs/torch-nightly/lib/python3.10/site-packages (from nbformat>=4.2.0->ipywidgets->jupyter->-r requirements.txt (line 12)) (4.4.0)\n",
      "Requirement already satisfied: wcwidth in /Users/rithickumar/miniforge3/envs/torch-nightly/lib/python3.10/site-packages (from prompt-toolkit!=3.0.0,!=3.0.1,<3.1.0,>=2.0.0->jupyter-console->jupyter->-r requirements.txt (line 12)) (0.2.5)\n",
      "Requirement already satisfied: pyasn1<0.5.0,>=0.4.6 in /Users/rithickumar/miniforge3/envs/torch-nightly/lib/python3.10/site-packages (from pyasn1-modules>=0.2.1->google-auth<3,>=1.6.3->tensorboard->-r requirements.txt (line 9)) (0.4.8)\n",
      "Requirement already satisfied: oauthlib>=3.0.0 in /Users/rithickumar/miniforge3/envs/torch-nightly/lib/python3.10/site-packages (from requests-oauthlib>=0.7.0->google-auth-oauthlib<0.5,>=0.4.1->tensorboard->-r requirements.txt (line 9)) (3.2.0)\n",
      "Requirement already satisfied: ptyprocess in /Users/rithickumar/miniforge3/envs/torch-nightly/lib/python3.10/site-packages (from terminado>=0.8.3->notebook->jupyter->-r requirements.txt (line 12)) (0.7.0)\n",
      "Requirement already satisfied: argon2-cffi-bindings in /Users/rithickumar/miniforge3/envs/torch-nightly/lib/python3.10/site-packages (from argon2-cffi->notebook->jupyter->-r requirements.txt (line 12)) (21.2.0)\n",
      "Requirement already satisfied: soupsieve>1.2 in /Users/rithickumar/miniforge3/envs/torch-nightly/lib/python3.10/site-packages (from beautifulsoup4->nbconvert->jupyter->-r requirements.txt (line 12)) (2.3.1)\n",
      "Requirement already satisfied: webencodings in /Users/rithickumar/miniforge3/envs/torch-nightly/lib/python3.10/site-packages (from bleach->nbconvert->jupyter->-r requirements.txt (line 12)) (0.5.1)\n",
      "Requirement already satisfied: parso<0.9.0,>=0.8.0 in /Users/rithickumar/miniforge3/envs/torch-nightly/lib/python3.10/site-packages (from jedi>=0.16->ipython>=7.23.1->ipykernel->jupyter->-r requirements.txt (line 12)) (0.8.3)\n",
      "Requirement already satisfied: attrs>=17.4.0 in /Users/rithickumar/miniforge3/envs/torch-nightly/lib/python3.10/site-packages (from jsonschema>=2.6->nbformat>=4.2.0->ipywidgets->jupyter->-r requirements.txt (line 12)) (21.4.0)\n",
      "Requirement already satisfied: pyrsistent!=0.17.0,!=0.17.1,!=0.17.2,>=0.14.0 in /Users/rithickumar/miniforge3/envs/torch-nightly/lib/python3.10/site-packages (from jsonschema>=2.6->nbformat>=4.2.0->ipywidgets->jupyter->-r requirements.txt (line 12)) (0.18.0)\n",
      "Requirement already satisfied: pure-eval in /Users/rithickumar/miniforge3/envs/torch-nightly/lib/python3.10/site-packages (from stack-data->ipython>=7.23.1->ipykernel->jupyter->-r requirements.txt (line 12)) (0.2.2)\n",
      "Requirement already satisfied: asttokens in /Users/rithickumar/miniforge3/envs/torch-nightly/lib/python3.10/site-packages (from stack-data->ipython>=7.23.1->ipykernel->jupyter->-r requirements.txt (line 12)) (2.0.5)\n",
      "Requirement already satisfied: executing in /Users/rithickumar/miniforge3/envs/torch-nightly/lib/python3.10/site-packages (from stack-data->ipython>=7.23.1->ipykernel->jupyter->-r requirements.txt (line 12)) (0.8.3)\n"
     ]
    }
   ],
   "source": [
    "!pip install -r requirements.txt    "
   ]
  },
  {
   "cell_type": "code",
   "execution_count": 2,
   "metadata": {},
   "outputs": [],
   "source": [
    "import random\n",
    "import numpy as np\n",
    "from PIL import Image\n",
    "\n",
    "import torch\n",
    "import torch.optim as optim\n",
    "import torch.nn as nn\n",
    "import torch.nn.functional as F\n",
    "\n",
    "from torch.utils.data import DataLoader, Dataset, random_split, \\\n",
    "WeightedRandomSampler, SubsetRandomSampler\n",
    "from torchvision.transforms import Compose, ToTensor, Normalize,\\\n",
    "ToPILImage, RandomHorizontalFlip, Resize\n",
    "\n",
    "import matplotlib.pyplot as plt\n",
    "plt.style.use('fivethirtyeight')\n",
    "%matplotlib inline\n",
    "\n",
    "from data_generation.image_classification import generate_dataset\n",
    "from stepbystep.v0 import StepByStep"
   ]
  },
  {
   "cell_type": "markdown",
   "metadata": {},
   "source": [
    "### Data generation"
   ]
  },
  {
   "cell_type": "code",
   "execution_count": 3,
   "metadata": {},
   "outputs": [],
   "source": [
    "images, labels = generate_dataset(img_size=5, n_images=300, binary=True, seed=13)"
   ]
  },
  {
   "cell_type": "code",
   "execution_count": 4,
   "metadata": {},
   "outputs": [
    {
     "data": {
      "text/plain": [
       "(300, 1, 5, 5)"
      ]
     },
     "execution_count": 4,
     "metadata": {},
     "output_type": "execute_result"
    }
   ],
   "source": [
    "images.shape"
   ]
  },
  {
   "cell_type": "code",
   "execution_count": 5,
   "metadata": {},
   "outputs": [
    {
     "data": {
      "text/plain": [
       "array([[[[  0,   0,   0,   0,   0],\n",
       "         [  0,   0,   0,   0,   0],\n",
       "         [  0,   0,   0,   0,   0],\n",
       "         [  0,   0,   0,   0,   0],\n",
       "         [  0,   0,   0,   0, 255]]],\n",
       "\n",
       "\n",
       "       [[[  0,   0,   0,   0,   0],\n",
       "         [  0,   0,   0,   0,   0],\n",
       "         [  0,   0,   0,   0,   0],\n",
       "         [  0,   0,   0,   0,   0],\n",
       "         [  0,   0,   0,   0, 255]]]], dtype=uint8)"
      ]
     },
     "execution_count": 5,
     "metadata": {},
     "output_type": "execute_result"
    }
   ],
   "source": [
    "images[1:3]"
   ]
  },
  {
   "cell_type": "code",
   "execution_count": 6,
   "metadata": {},
   "outputs": [
    {
     "data": {
      "text/plain": [
       "(array([[[  0, 255,   0,   0,   0],\n",
       "         [  0,   0, 255,   0,   0],\n",
       "         [  0,   0,   0, 255,   0],\n",
       "         [  0,   0,   0,   0, 255],\n",
       "         [  0,   0,   0,   0,   0]]], dtype=uint8),\n",
       " (1, 5, 5))"
      ]
     },
     "execution_count": 6,
     "metadata": {},
     "output_type": "execute_result"
    }
   ],
   "source": [
    "example = images[7]\n",
    "example,example.shape"
   ]
  },
  {
   "cell_type": "code",
   "execution_count": 7,
   "metadata": {},
   "outputs": [
    {
     "data": {
      "text/plain": [
       "(5, 5, 1)"
      ]
     },
     "execution_count": 7,
     "metadata": {},
     "output_type": "execute_result"
    }
   ],
   "source": [
    "example_hwc = np.transpose(example,(1,2,0))\n",
    "example_hwc.shape"
   ]
  },
  {
   "cell_type": "markdown",
   "metadata": {},
   "source": [
    "### Transforms"
   ]
  },
  {
   "cell_type": "code",
   "execution_count": 8,
   "metadata": {},
   "outputs": [
    {
     "data": {
      "text/plain": [
       "torch.Size([1, 5, 5])"
      ]
     },
     "execution_count": 8,
     "metadata": {},
     "output_type": "execute_result"
    }
   ],
   "source": [
    "tensorizer = ToTensor()\n",
    "example_tensor = tensorizer(example_hwc)\n",
    "example_tensor.shape"
   ]
  },
  {
   "cell_type": "code",
   "execution_count": 9,
   "metadata": {},
   "outputs": [
    {
     "data": {
      "text/plain": [
       "(5, 5, 1)"
      ]
     },
     "execution_count": 9,
     "metadata": {},
     "output_type": "execute_result"
    }
   ],
   "source": [
    "example_hwc.shape"
   ]
  },
  {
   "cell_type": "code",
   "execution_count": 10,
   "metadata": {},
   "outputs": [
    {
     "data": {
      "text/plain": [
       "tensor([[[0., 1., 0., 0., 0.],\n",
       "         [0., 0., 1., 0., 0.],\n",
       "         [0., 0., 0., 1., 0.],\n",
       "         [0., 0., 0., 0., 1.],\n",
       "         [0., 0., 0., 0., 0.]]])"
      ]
     },
     "execution_count": 10,
     "metadata": {},
     "output_type": "execute_result"
    }
   ],
   "source": [
    "example_tensor"
   ]
  },
  {
   "cell_type": "code",
   "execution_count": 11,
   "metadata": {},
   "outputs": [
    {
     "name": "stdout",
     "output_type": "stream",
     "text": [
      "<class 'PIL.Image.Image'>\n"
     ]
    }
   ],
   "source": [
    "example_img = ToPILImage()(example_tensor)\n",
    "print(type(example_img))"
   ]
  },
  {
   "cell_type": "code",
   "execution_count": 12,
   "metadata": {},
   "outputs": [
    {
     "data": {
      "image/png": "[encoded data removed]",
      "text/plain": [
       "<Figure size 432x288 with 1 Axes>"
      ]
     },
     "metadata": {},
     "output_type": "display_data"
    }
   ],
   "source": [
    "plt.imshow(example_img, cmap='gray')\n",
    "plt.grid(False)"
   ]
  },
  {
   "cell_type": "markdown",
   "metadata": {},
   "source": [
    "### Transforms on images"
   ]
  },
  {
   "cell_type": "code",
   "execution_count": 13,
   "metadata": {},
   "outputs": [],
   "source": [
    "flipper = RandomHorizontalFlip(p=1.0)\n",
    "flipped_img = flipper(example_img)"
   ]
  },
  {
   "cell_type": "code",
   "execution_count": 14,
   "metadata": {},
   "outputs": [
    {
     "data": {
      "image/png": "[encoded data removed]",
      "text/plain": [
       "<Figure size 432x288 with 1 Axes>"
      ]
     },
     "metadata": {},
     "output_type": "display_data"
    }
   ],
   "source": [
    "plt.imshow(flipped_img,cmap='gray')\n",
    "plt.grid(False)"
   ]
  },
  {
   "cell_type": "markdown",
   "metadata": {},
   "source": [
    "### Transforms on tensors"
   ]
  },
  {
   "cell_type": "code",
   "execution_count": 15,
   "metadata": {},
   "outputs": [
    {
     "data": {
      "text/plain": [
       "tensor([[[0., 0., 0., 1., 0.],\n",
       "         [0., 0., 1., 0., 0.],\n",
       "         [0., 1., 0., 0., 0.],\n",
       "         [1., 0., 0., 0., 0.],\n",
       "         [0., 0., 0., 0., 0.]]])"
      ]
     },
     "execution_count": 15,
     "metadata": {},
     "output_type": "execute_result"
    }
   ],
   "source": [
    "img_tensor = tensorizer(flipped_img)\n",
    "img_tensor"
   ]
  },
  {
   "cell_type": "code",
   "execution_count": 16,
   "metadata": {},
   "outputs": [
    {
     "data": {
      "text/plain": [
       "tensor([[[-1., -1., -1.,  1., -1.],\n",
       "         [-1., -1.,  1., -1., -1.],\n",
       "         [-1.,  1., -1., -1., -1.],\n",
       "         [ 1., -1., -1., -1., -1.],\n",
       "         [-1., -1., -1., -1., -1.]]])"
      ]
     },
     "execution_count": 16,
     "metadata": {},
     "output_type": "execute_result"
    }
   ],
   "source": [
    "normalizer = Normalize(mean = (.5,),std = (.5,))\n",
    "normalized_img = normalizer(img_tensor)\n",
    "normalized_img"
   ]
  },
  {
   "cell_type": "markdown",
   "metadata": {},
   "source": [
    "### Composing transforms"
   ]
  },
  {
   "cell_type": "code",
   "execution_count": 17,
   "metadata": {},
   "outputs": [],
   "source": [
    "composer = Compose([RandomHorizontalFlip(p=1.0),Normalize(mean = (.5,),std = (.5,))])"
   ]
  },
  {
   "cell_type": "code",
   "execution_count": 18,
   "metadata": {},
   "outputs": [
    {
     "data": {
      "text/plain": [
       "tensor([[[True, True, True, True, True],\n",
       "         [True, True, True, True, True],\n",
       "         [True, True, True, True, True],\n",
       "         [True, True, True, True, True],\n",
       "         [True, True, True, True, True]]])"
      ]
     },
     "execution_count": 18,
     "metadata": {},
     "output_type": "execute_result"
    }
   ],
   "source": [
    "composed_tensor = composer(example_tensor)\n",
    "composed_tensor == normalized_img"
   ]
  },
  {
   "cell_type": "code",
   "execution_count": 19,
   "metadata": {},
   "outputs": [
    {
     "data": {
      "text/plain": [
       "tensor([[[0., 1., 0., 0., 0.],\n",
       "         [0., 0., 1., 0., 0.],\n",
       "         [0., 0., 0., 1., 0.],\n",
       "         [0., 0., 0., 0., 1.],\n",
       "         [0., 0., 0., 0., 0.]]])"
      ]
     },
     "execution_count": 19,
     "metadata": {},
     "output_type": "execute_result"
    }
   ],
   "source": [
    "example_tensor"
   ]
  },
  {
   "cell_type": "code",
   "execution_count": 20,
   "metadata": {},
   "outputs": [
    {
     "data": {
      "text/plain": [
       "array([[[  0, 255,   0,   0,   0],\n",
       "        [  0,   0, 255,   0,   0],\n",
       "        [  0,   0,   0, 255,   0],\n",
       "        [  0,   0,   0,   0, 255],\n",
       "        [  0,   0,   0,   0,   0]]], dtype=uint8)"
      ]
     },
     "execution_count": 20,
     "metadata": {},
     "output_type": "execute_result"
    }
   ],
   "source": [
    "example"
   ]
  },
  {
   "cell_type": "markdown",
   "metadata": {},
   "source": [
    "### Data preparation"
   ]
  },
  {
   "cell_type": "code",
   "execution_count": 21,
   "metadata": {},
   "outputs": [],
   "source": [
    "x_tensor = torch.as_tensor(images/255).float()\n",
    "y_tensor = torch.as_tensor(labels.reshape(-1,1)).float()"
   ]
  },
  {
   "cell_type": "markdown",
   "metadata": {},
   "source": [
    "#### Dataset Transforms"
   ]
  },
  {
   "cell_type": "code",
   "execution_count": 22,
   "metadata": {},
   "outputs": [],
   "source": [
    "class TransformedTensorDataset(Dataset):\n",
    "    def __init__(self,x,y,transform = None):\n",
    "        self.x = x\n",
    "        self.y = y\n",
    "        self.transform = transform\n",
    "\n",
    "    def __getitem__(self, index):\n",
    "        x = self.x[index]\n",
    "\n",
    "        if self.transform:\n",
    "            x = self.transform(x)\n",
    "        \n",
    "        return x,self.y[index]\n",
    "    \n",
    "    def __len__(self):\n",
    "        return len(self.x)"
   ]
  },
  {
   "cell_type": "code",
   "execution_count": 23,
   "metadata": {},
   "outputs": [],
   "source": [
    "composer = Compose([RandomHorizontalFlip(p=0.5),\n",
    "                    Normalize(mean = (0.5,),std = (0.5,))])"
   ]
  },
  {
   "cell_type": "code",
   "execution_count": 24,
   "metadata": {},
   "outputs": [],
   "source": [
    "dataset = TransformedTensorDataset(x_tensor,y_tensor,transform = composer)"
   ]
  },
  {
   "cell_type": "code",
   "execution_count": 25,
   "metadata": {},
   "outputs": [],
   "source": [
    "def index_splitter(n,splits,seed = 13):\n",
    "\n",
    "    idx = torch.arange(n)\n",
    "\n",
    "    splits_tensor = torch.as_tensor(splits)\n",
    "    multiplier = n/splits_tensor.sum()\n",
    "    splits_tensor = (multiplier * splits_tensor).long()\n",
    "\n",
    "    diff = n - splits_tensor.sum()\n",
    "    splits_tensor[0] += diff\n",
    "\n",
    "    torch.manual_seed(seed)\n",
    "    return random_split(idx,splits_tensor)"
   ]
  },
  {
   "cell_type": "code",
   "execution_count": 26,
   "metadata": {},
   "outputs": [
    {
     "data": {
      "text/plain": [
       "<torch.utils.data.dataset.Subset at 0x1444a40d0>"
      ]
     },
     "execution_count": 26,
     "metadata": {},
     "output_type": "execute_result"
    }
   ],
   "source": [
    "train_idx , val_idx = index_splitter(len(x_tensor),[80,20])\n",
    "train_idx"
   ]
  },
  {
   "cell_type": "code",
   "execution_count": 27,
   "metadata": {},
   "outputs": [
    {
     "data": {
      "text/plain": [
       "[118,\n",
       " 170,\n",
       " 148,\n",
       " 239,\n",
       " 226,\n",
       " 146,\n",
       " 168,\n",
       " 195,\n",
       " 6,\n",
       " 180,\n",
       " 157,\n",
       " 2,\n",
       " 160,\n",
       " 66,\n",
       " 46,\n",
       " 276,\n",
       " 126,\n",
       " 212,\n",
       " 119,\n",
       " 77,\n",
       " 53,\n",
       " 237,\n",
       " 252,\n",
       " 202,\n",
       " 200,\n",
       " 289,\n",
       " 135,\n",
       " 186,\n",
       " 231,\n",
       " 211,\n",
       " 35,\n",
       " 293,\n",
       " 229,\n",
       " 265,\n",
       " 256,\n",
       " 134,\n",
       " 191,\n",
       " 214,\n",
       " 8,\n",
       " 83,\n",
       " 150,\n",
       " 190,\n",
       " 208,\n",
       " 209,\n",
       " 275,\n",
       " 60,\n",
       " 295,\n",
       " 142,\n",
       " 251,\n",
       " 176,\n",
       " 260,\n",
       " 3,\n",
       " 31,\n",
       " 0,\n",
       " 137,\n",
       " 20,\n",
       " 81,\n",
       " 287,\n",
       " 181,\n",
       " 129,\n",
       " 166,\n",
       " 97,\n",
       " 110,\n",
       " 206,\n",
       " 267,\n",
       " 241,\n",
       " 109,\n",
       " 177,\n",
       " 27,\n",
       " 52,\n",
       " 43,\n",
       " 245,\n",
       " 247,\n",
       " 141,\n",
       " 68,\n",
       " 131,\n",
       " 217,\n",
       " 78,\n",
       " 185,\n",
       " 49,\n",
       " 96,\n",
       " 14,\n",
       " 111,\n",
       " 234,\n",
       " 284,\n",
       " 263,\n",
       " 269,\n",
       " 101,\n",
       " 32,\n",
       " 285,\n",
       " 79,\n",
       " 297,\n",
       " 94,\n",
       " 85,\n",
       " 11,\n",
       " 5,\n",
       " 80,\n",
       " 165,\n",
       " 183,\n",
       " 4,\n",
       " 33,\n",
       " 100,\n",
       " 73,\n",
       " 235,\n",
       " 277,\n",
       " 16,\n",
       " 144,\n",
       " 132,\n",
       " 167,\n",
       " 130,\n",
       " 45,\n",
       " 48,\n",
       " 201,\n",
       " 99,\n",
       " 34,\n",
       " 138,\n",
       " 178,\n",
       " 244,\n",
       " 225,\n",
       " 173,\n",
       " 95,\n",
       " 22,\n",
       " 197,\n",
       " 174,\n",
       " 90,\n",
       " 223,\n",
       " 274,\n",
       " 92,\n",
       " 279,\n",
       " 19,\n",
       " 74,\n",
       " 28,\n",
       " 162,\n",
       " 133,\n",
       " 151,\n",
       " 37,\n",
       " 299,\n",
       " 18,\n",
       " 203,\n",
       " 13,\n",
       " 156,\n",
       " 268,\n",
       " 259,\n",
       " 116,\n",
       " 70,\n",
       " 71,\n",
       " 230,\n",
       " 108,\n",
       " 238,\n",
       " 47,\n",
       " 163,\n",
       " 30,\n",
       " 188,\n",
       " 64,\n",
       " 216,\n",
       " 121,\n",
       " 187,\n",
       " 72,\n",
       " 221,\n",
       " 258,\n",
       " 44,\n",
       " 179,\n",
       " 272,\n",
       " 159,\n",
       " 253,\n",
       " 280,\n",
       " 140,\n",
       " 120,\n",
       " 62,\n",
       " 271,\n",
       " 57,\n",
       " 1,\n",
       " 149,\n",
       " 9,\n",
       " 29,\n",
       " 194,\n",
       " 158,\n",
       " 115,\n",
       " 198,\n",
       " 294,\n",
       " 17,\n",
       " 155,\n",
       " 240,\n",
       " 21,\n",
       " 12,\n",
       " 106,\n",
       " 182,\n",
       " 281,\n",
       " 123,\n",
       " 189,\n",
       " 122,\n",
       " 65,\n",
       " 175,\n",
       " 91,\n",
       " 87,\n",
       " 257,\n",
       " 89,\n",
       " 15,\n",
       " 152,\n",
       " 147,\n",
       " 218,\n",
       " 25,\n",
       " 278,\n",
       " 41,\n",
       " 112,\n",
       " 139,\n",
       " 145,\n",
       " 117,\n",
       " 246,\n",
       " 233,\n",
       " 282,\n",
       " 105,\n",
       " 184,\n",
       " 228,\n",
       " 63,\n",
       " 232,\n",
       " 114,\n",
       " 266,\n",
       " 298,\n",
       " 262,\n",
       " 296,\n",
       " 205,\n",
       " 125,\n",
       " 61,\n",
       " 196,\n",
       " 290,\n",
       " 261,\n",
       " 84,\n",
       " 67,\n",
       " 38,\n",
       " 204,\n",
       " 248,\n",
       " 51,\n",
       " 219,\n",
       " 113,\n",
       " 75,\n",
       " 164,\n",
       " 222,\n",
       " 10,\n",
       " 161]"
      ]
     },
     "execution_count": 27,
     "metadata": {},
     "output_type": "execute_result"
    }
   ],
   "source": [
    "train_idx.indices"
   ]
  },
  {
   "cell_type": "code",
   "execution_count": 28,
   "metadata": {},
   "outputs": [],
   "source": [
    "train_sampler = SubsetRandomSampler(train_idx)\n",
    "val_sampler = SubsetRandomSampler(val_idx)"
   ]
  },
  {
   "cell_type": "code",
   "execution_count": 29,
   "metadata": {},
   "outputs": [],
   "source": [
    "train_loader = DataLoader(dataset = dataset,batch_size=16,sampler= train_sampler)\n",
    "val_loader = DataLoader(dataset=dataset,batch_size=16,sampler=val_sampler)"
   ]
  },
  {
   "cell_type": "code",
   "execution_count": 30,
   "metadata": {},
   "outputs": [
    {
     "data": {
      "text/plain": [
       "(15, 4)"
      ]
     },
     "execution_count": 30,
     "metadata": {},
     "output_type": "execute_result"
    }
   ],
   "source": [
    "len(iter(train_loader)),len(iter(val_loader))"
   ]
  },
  {
   "cell_type": "code",
   "execution_count": 31,
   "metadata": {},
   "outputs": [],
   "source": [
    "x_train_tensor = x_tensor[train_idx]\n",
    "y_train_tensor = y_tensor[train_idx]\n",
    "x_val_tensor = x_tensor[val_idx]\n",
    "y_val_tensor = y_tensor[val_idx]"
   ]
  },
  {
   "cell_type": "code",
   "execution_count": 32,
   "metadata": {},
   "outputs": [],
   "source": [
    "train_composer = Compose([RandomHorizontalFlip(p=.5),\n",
    "                          Normalize(mean=(.5,), std=(.5,))])\n",
    "val_composer = Compose([Normalize(mean=(.5,), std=(.5,))])"
   ]
  },
  {
   "cell_type": "code",
   "execution_count": 33,
   "metadata": {},
   "outputs": [],
   "source": [
    "train_dataset = TransformedTensorDataset(\n",
    "    x_train_tensor, y_train_tensor, transform=train_composer\n",
    ")\n",
    "val_dataset = TransformedTensorDataset(\n",
    "    x_val_tensor, y_val_tensor, transform=val_composer\n",
    ")\n",
    "# Builds a loader of each set\n",
    "train_loader = DataLoader(\n",
    "    dataset=train_dataset, batch_size=16, shuffle=True\n",
    ")\n",
    "val_loader = DataLoader(dataset=val_dataset, batch_size=16)"
   ]
  },
  {
   "cell_type": "markdown",
   "metadata": {},
   "source": [
    "#### Weighted Random Sampler"
   ]
  },
  {
   "cell_type": "code",
   "execution_count": 34,
   "metadata": {},
   "outputs": [
    {
     "name": "stdout",
     "output_type": "stream",
     "text": [
      "tensor([0., 1.]) tensor([ 80, 160])\n"
     ]
    }
   ],
   "source": [
    "classes, counts = y_train_tensor.unique(return_counts=True) \n",
    "print(classes, counts)"
   ]
  },
  {
   "cell_type": "code",
   "execution_count": 35,
   "metadata": {},
   "outputs": [
    {
     "data": {
      "text/plain": [
       "tensor([0.0125, 0.0063])"
      ]
     },
     "execution_count": 35,
     "metadata": {},
     "output_type": "execute_result"
    }
   ],
   "source": [
    "weights = 1.0 / counts.float()\n",
    "weights"
   ]
  },
  {
   "cell_type": "code",
   "execution_count": 36,
   "metadata": {},
   "outputs": [],
   "source": [
    "sample_weights = weights[y_train_tensor.squeeze().long()]"
   ]
  },
  {
   "cell_type": "code",
   "execution_count": 37,
   "metadata": {},
   "outputs": [
    {
     "data": {
      "text/plain": [
       "(tensor([0.0063, 0.0063, 0.0063, 0.0063, 0.0063, 0.0125, 0.0063, 0.0063, 0.0063,\n",
       "         0.0063]),\n",
       " tensor([[1.],\n",
       "         [1.],\n",
       "         [1.],\n",
       "         [1.],\n",
       "         [1.],\n",
       "         [0.],\n",
       "         [1.],\n",
       "         [1.],\n",
       "         [1.],\n",
       "         [1.]]))"
      ]
     },
     "execution_count": 37,
     "metadata": {},
     "output_type": "execute_result"
    }
   ],
   "source": [
    "sample_weights[:10],y_train_tensor[:10]"
   ]
  },
  {
   "cell_type": "code",
   "execution_count": 38,
   "metadata": {},
   "outputs": [],
   "source": [
    "generator = torch.Generator()\n",
    "\n",
    "sampler = WeightedRandomSampler(weights=sample_weights\n",
    "                                ,num_samples=len(sample_weights),\n",
    "                                replacement=True,\n",
    "                                generator = generator)"
   ]
  },
  {
   "cell_type": "code",
   "execution_count": 39,
   "metadata": {},
   "outputs": [],
   "source": [
    "def make_balanced_sampler(y):\n",
    "    # Computes weights for compensating imbalanced classes classes, counts = y.unique(return_counts=True)\n",
    "    weights = 1.0 / counts.float()\n",
    "    sample_weights = weights[y.squeeze().long()]\n",
    "    # Builds sampler with compute weights\n",
    "    generator = torch.Generator()\n",
    "    sampler = WeightedRandomSampler(\n",
    "            weights=sample_weights,\n",
    "            num_samples=len(sample_weights),\n",
    "            generator=generator,\n",
    "            replacement=True)\n",
    "    return sampler \n",
    "\n",
    "sampler = make_balanced_sampler(y_train_tensor)"
   ]
  },
  {
   "cell_type": "code",
   "execution_count": 40,
   "metadata": {},
   "outputs": [],
   "source": [
    "train_loader = DataLoader(\n",
    "    dataset=train_dataset, batch_size=16,  sampler=sampler)\n",
    "    \n",
    "val_loader = DataLoader(dataset=val_dataset, batch_size=16)"
   ]
  },
  {
   "cell_type": "code",
   "execution_count": 41,
   "metadata": {},
   "outputs": [],
   "source": [
    "train_loader.sampler.generator.manual_seed(42)\n",
    "random.seed(42)"
   ]
  },
  {
   "cell_type": "code",
   "execution_count": 42,
   "metadata": {},
   "outputs": [
    {
     "data": {
      "text/plain": [
       "tensor(123.)"
      ]
     },
     "execution_count": 42,
     "metadata": {},
     "output_type": "execute_result"
    }
   ],
   "source": [
    "torch.tensor([t[1].sum() for t in iter(train_loader)]).sum()"
   ]
  },
  {
   "cell_type": "markdown",
   "metadata": {},
   "source": [
    "#### Pixels as features"
   ]
  },
  {
   "cell_type": "code",
   "execution_count": 43,
   "metadata": {},
   "outputs": [
    {
     "data": {
      "text/plain": [
       "torch.Size([16, 1, 5, 5])"
      ]
     },
     "execution_count": 43,
     "metadata": {},
     "output_type": "execute_result"
    }
   ],
   "source": [
    "dummy_xs, dummy_ys = next(iter(train_loader))\n",
    "dummy_xs.shape"
   ]
  },
  {
   "cell_type": "code",
   "execution_count": 44,
   "metadata": {},
   "outputs": [
    {
     "data": {
      "text/plain": [
       "torch.Size([16, 25])"
      ]
     },
     "execution_count": 44,
     "metadata": {},
     "output_type": "execute_result"
    }
   ],
   "source": [
    "flattener = nn.Flatten()\n",
    "dummy_xs_flat = flattener(dummy_xs)\n",
    "\n",
    "dummy_xs_flat.shape"
   ]
  },
  {
   "cell_type": "markdown",
   "metadata": {},
   "source": [
    "### Shallow model"
   ]
  },
  {
   "cell_type": "code",
   "execution_count": 45,
   "metadata": {},
   "outputs": [],
   "source": [
    "lr = 0.1\n",
    "\n",
    "torch.manual_seed(17)\n",
    "\n",
    "model_logistic = nn.Sequential()\n",
    "\n",
    "model_logistic.add_module('Flatten',nn.Flatten())\n",
    "model_logistic.add_module('Linear',nn.Linear(25,1,bias = False))\n",
    "model_logistic.add_module('sigmoid',nn.Sigmoid())\n",
    "\n",
    "optimizer_logistic = optim.SGD(model_logistic.parameters(),lr = lr)\n",
    "\n",
    "binary_loss_fn = nn.BCELoss()"
   ]
  },
  {
   "cell_type": "code",
   "execution_count": 48,
   "metadata": {},
   "outputs": [],
   "source": [
    "n_epochs = 100\n",
    "\n",
    "from stepbystep.v1 import StepByStep\n",
    "\n",
    "sbs_logistic = StepByStep(model_logistic,binary_loss_fn,optimizer_logistic)\n",
    "sbs_logistic.set_loaders(train_loader,val_loader)\n",
    "sbs_logistic.train(n_epochs)"
   ]
  },
  {
   "cell_type": "code",
   "execution_count": 49,
   "metadata": {},
   "outputs": [
    {
     "data": {
      "image/png": "[encoded data removed]",
      "text/plain": [
       "<Figure size 720x288 with 1 Axes>"
      ]
     },
     "metadata": {},
     "output_type": "display_data"
    }
   ],
   "source": [
    "fig = sbs_logistic.plot_losses()"
   ]
  },
  {
   "cell_type": "markdown",
   "metadata": {},
   "source": [
    "### Deep-ish  model"
   ]
  },
  {
   "cell_type": "code",
   "execution_count": 55,
   "metadata": {},
   "outputs": [],
   "source": [
    "lr = 0.1\n",
    "\n",
    "torch.manual_seed(17)\n",
    "\n",
    "model_logistic = nn.Sequential()\n",
    "\n",
    "model_logistic.add_module('Flatten',nn.Flatten())\n",
    "model_logistic.add_module('hidden0',nn.Linear(25,5,bias = False))\n",
    "model_logistic.add_module('hidden1',nn.Linear(5,3,bias=False))\n",
    "model_logistic.add_module('output',nn.Linear(3,1,bias=False))\n",
    "model_logistic.add_module('sigmoid',nn.Sigmoid())\n",
    "\n",
    "optimizer_logistic = optim.SGD(model_logistic.parameters(),lr = lr)\n",
    "\n",
    "binary_loss_fn = nn.BCELoss()"
   ]
  },
  {
   "cell_type": "code",
   "execution_count": 56,
   "metadata": {},
   "outputs": [],
   "source": [
    "n_epochs = 100\n",
    "\n",
    "# from stepbystep.v1 import StepByStep\n",
    "\n",
    "sbs_logistic = StepByStep(model_logistic,binary_loss_fn,optimizer_logistic)\n",
    "sbs_logistic.set_loaders(train_loader,val_loader)\n",
    "sbs_logistic.train(n_epochs)"
   ]
  },
  {
   "cell_type": "code",
   "execution_count": 57,
   "metadata": {},
   "outputs": [
    {
     "data": {
      "image/png": "[encoded data removed]",
      "text/plain": [
       "<Figure size 720x288 with 1 Axes>"
      ]
     },
     "metadata": {},
     "output_type": "display_data"
    }
   ],
   "source": [
    "fig = sbs_logistic.plot_losses()"
   ]
  },
  {
   "cell_type": "markdown",
   "metadata": {},
   "source": [
    "We can see both deeper model and shallow model perform equally bad. This is because we have not included activation \n",
    "functions in b/w hidden layers. So without act fns, a deeper model is more or less equivalent to a logistic regression model"
   ]
  },
  {
   "cell_type": "code",
   "execution_count": 58,
   "metadata": {},
   "outputs": [
    {
     "data": {
      "text/plain": [
       "torch.Size([5, 25])"
      ]
     },
     "execution_count": 58,
     "metadata": {},
     "output_type": "execute_result"
    }
   ],
   "source": [
    "model_logistic.hidden0.weight.detach().shape"
   ]
  },
  {
   "cell_type": "markdown",
   "metadata": {},
   "source": [
    "### Deep model"
   ]
  },
  {
   "cell_type": "code",
   "execution_count": 59,
   "metadata": {},
   "outputs": [],
   "source": [
    "lr = 0.1\n",
    "\n",
    "torch.manual_seed(17)\n",
    "\n",
    "model_deep = nn.Sequential()\n",
    "model_deep.add_module('flatten',nn.Flatten())\n",
    "model_deep.add_module('hidden0',nn.Linear(25,5,bias= False))\n",
    "model_deep.add_module('act0',nn.ReLU())\n",
    "model_deep.add_module('hidden1',nn.Linear(5,3,bias= False))\n",
    "model_deep.add_module('act1',nn.ReLU())\n",
    "model_deep.add_module('output',nn.Linear(3,1,bias= False))\n",
    "model_deep.add_module('sigmoid',nn.Sigmoid())\n",
    "\n",
    "optimizer_deep = optim.SGD(model_deep.parameters(),lr = lr)\n",
    "binary_loss_fn = nn.BCELoss()"
   ]
  },
  {
   "cell_type": "code",
   "execution_count": 60,
   "metadata": {},
   "outputs": [],
   "source": [
    "n_epochs = 50\n",
    "\n",
    "sbs_deep = StepByStep(model_deep,binary_loss_fn,optimizer_deep)\n",
    "sbs_deep.set_loaders(train_loader,val_loader)\n",
    "sbs_deep.train(n_epochs)"
   ]
  },
  {
   "cell_type": "code",
   "execution_count": 61,
   "metadata": {},
   "outputs": [
    {
     "data": {
      "image/png": "[encoded data removed]",
      "text/plain": [
       "<Figure size 720x288 with 1 Axes>"
      ]
     },
     "metadata": {},
     "output_type": "display_data"
    }
   ],
   "source": [
    "fig = sbs_deep.plot_losses()"
   ]
  },
  {
   "cell_type": "code",
   "execution_count": null,
   "metadata": {},
   "outputs": [],
   "source": []
  }
 ],
 "metadata": {
  "kernelspec": {
   "display_name": "Python 3.10.5 ('torch-nightly')",
   "language": "python",
   "name": "python3"
  },
  "language_info": {
   "codemirror_mode": {
    "name": "ipython",
    "version": 3
   },
   "file_extension": ".py",
   "mimetype": "text/x-python",
   "name": "python",
   "nbconvert_exporter": "python",
   "pygments_lexer": "ipython3",
   "version": "3.10.5"
  },
  "orig_nbformat": 4,
  "vscode": {
   "interpreter": {
    "hash": "9b5f9f4380119d10d38d35fab5174eb35e5c5d005b5419bd03d8aa14d72858f3"
   }
  }
 },
 "nbformat": 4,
 "nbformat_minor": 2
}
